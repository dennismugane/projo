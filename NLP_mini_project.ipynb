{
  "cells": [
    {
      "cell_type": "markdown",
      "metadata": {
        "id": "view-in-github",
        "colab_type": "text"
      },
      "source": [
        "<a href=\"https://colab.research.google.com/github/dennismugane/projo/blob/master/NLP_mini_project.ipynb\" target=\"_parent\"><img src=\"https://colab.research.google.com/assets/colab-badge.svg\" alt=\"Open In Colab\"/></a>"
      ]
    },
    {
      "cell_type": "code",
      "execution_count": null,
      "metadata": {
        "init_cell": true,
        "id": "O7JctWOb1Jny"
      },
      "outputs": [],
      "source": [
        "%logstop\n",
        "%logstart -rtq ~/.logs/nlp.py append\n",
        "import seaborn as sns\n",
        "sns.set()"
      ]
    },
    {
      "cell_type": "code",
      "execution_count": null,
      "metadata": {
        "id": "65cZoJdc1JoE"
      },
      "outputs": [],
      "source": [
        "from static_grader import grader"
      ]
    },
    {
      "cell_type": "markdown",
      "metadata": {
        "id": "FpVGY3lZ1JoG"
      },
      "source": [
        "# NLP Miniproject"
      ]
    },
    {
      "cell_type": "markdown",
      "metadata": {
        "id": "2wMkn1B71JoU"
      },
      "source": [
        "## Introduction\n",
        "\n",
        "The objective of this miniproject is to gain experience with natural language processing and how to use text data to train a machine learning model to make predictions. For the miniproject, we will be working with product review text from Amazon. The reviews are for only products in the \"Electronics\" category. The objective is to train a model to predict the rating, ranging from 1 to 5 stars.\n",
        "\n",
        "## Scoring\n",
        "\n",
        "For most of the questions, you will be asked to submit the `predict` method of your trained model to the grader. The grader will use the passed `predict` method to evaluate how your model performs on a test set with respect to a reference model. The grader uses the [R<sup>2</sup>-score](https://scikit-learn.org/stable/modules/model_evaluation.html#r2-score) for model evaluation. If your model performs better than the reference solution, then you can score higher than 1.0. For the last question, you will submit the results of an analysis and your passed answer will be compared directly to the reference solution.\n",
        "\n",
        "## Downloading and loading the data\n",
        "\n",
        "The data set is available on Amazon S3 and comes as a compressed file where each line is a JSON object. To load the data set, we will need to use the `gzip` library to open the file and decode each JSON into a Python dictionary. In the end, we have a list of dictionaries, where each dictionary represents an observation."
      ]
    },
    {
      "cell_type": "code",
      "execution_count": null,
      "metadata": {
        "id": "NFIU8uQN1JoX",
        "outputId": "2f97e915-e978-4c84-aa66-57cd1cd62f14"
      },
      "outputs": [
        {
          "name": "stderr",
          "output_type": "stream",
          "text": [
            "mkdir: cannot create directory ‘data’: File exists\n",
            "File ‘./data/amazon_electronics_reviews_training.json.gz’ already there; not retrieving.\n",
            "\n"
          ]
        }
      ],
      "source": [
        "%%bash\n",
        "mkdir data\n",
        "wget http://dataincubator-wqu.s3.amazonaws.com/mldata/amazon_electronics_reviews_training.json.gz -nc -P ./data"
      ]
    },
    {
      "cell_type": "code",
      "execution_count": null,
      "metadata": {
        "id": "ypIIPZVA1Joc"
      },
      "outputs": [],
      "source": [
        "import gzip\n",
        "import simplejson as json\n",
        "\n",
        "with gzip.open(\"data/amazon_electronics_reviews_training.json.gz\", \"r\") as f:                                  \n",
        "    data = [json.loads(line) for line in f]"
      ]
    },
    {
      "cell_type": "code",
      "execution_count": null,
      "metadata": {
        "id": "I4s7nyOd1Joe",
        "outputId": "a0ac6d10-575a-41ac-f515-9b966fb152b2"
      },
      "outputs": [
        {
          "data": {
            "text/plain": [
              "{'reviewerID': 'A238V1XTSK9NFE',\n",
              " 'asin': 'B00004VX3T',\n",
              " 'reviewerName': 'Andrew Lynn',\n",
              " 'helpful': [2, 2],\n",
              " 'reviewText': \"I bought this mouse to use with my laptop because I don't like those little touchpads.  I could not be happier.Since it's USB, I can plug it in with the computer already on and expect it to work automatically.  Since it's optical (the new kind, not to be confused with the old Sun optical mice that required a special checkered mouse pad) it works on most surfaces, including my pant legs, my couch, and random tables that I put my laptop down on.  It's also light and durable, features that help with portability.The wheel is surprisingly useful.  In addition to scrolling, it controls zoom and pan in programs like Autocad and 3D Studio Max.  I can no longer bear using either of these programs without it.One complaint - the software included with the Internet navigation features is useless.  Don't bother installing it if you have a newer Windows version that automatically supports wheel mice.  Just plug it in and use it - it's that easy.\",\n",
              " 'overall': 5.0,\n",
              " 'summary': 'Excellent mouse for laptop users',\n",
              " 'unixReviewTime': 1007942400,\n",
              " 'reviewTime': '12 10, 2001'}"
            ]
          },
          "execution_count": 6,
          "metadata": {},
          "output_type": "execute_result"
        }
      ],
      "source": [
        "data[0]"
      ]
    },
    {
      "cell_type": "markdown",
      "metadata": {
        "id": "nkBgp2UK1Joh"
      },
      "source": [
        "The ratings are stored in the keyword `\"overall\"`. You should create an array of the ratings for each review, preferably using list comprehensions."
      ]
    },
    {
      "cell_type": "code",
      "execution_count": null,
      "metadata": {
        "id": "cIHXaz6q1Jol"
      },
      "outputs": [],
      "source": [
        "ratings = [review[\"overall\"] for review in data]"
      ]
    },
    {
      "cell_type": "markdown",
      "metadata": {
        "id": "LKBczFTA1Jor"
      },
      "source": [
        "**Note**, the test set used by the grader is in the same format as that of `data`, a list of dictionaries. Your trained model needs to accept data in the same format. Thus, you should use `Pipeline` when constructing your model so that all necessary transformation needed are encapsulated into a single estimator object."
      ]
    },
    {
      "cell_type": "markdown",
      "metadata": {
        "id": "ZNKwElhz1Jov"
      },
      "source": [
        "## Question 1: Bag of words model\n",
        "\n",
        "Construct a machine learning model trained on word counts using the bag of words algorithm. Remember, the bag of words is implemented with `CountVectorizer`. Some things you should consider:\n",
        "\n",
        "* The reference solution uses a linear model and you should as well; use either `Ridge` or `SGDRegressor`.\n",
        "* The text review is stored in the key `\"reviewText\"`. You will need to construct a custom transformer to extract out the value of this key. It will be the first step in your pipeline.\n",
        "* Consider what hyperparameters you will need to tune for your model.\n",
        "* Subsampling the training data will boost training times, which will be helpful when determining the best hyperparameters to use. Note, your final model will perform best if it is trained on the full data set.\n",
        "* Including stop words may help with performance."
      ]
    },
    {
      "cell_type": "code",
      "execution_count": null,
      "metadata": {
        "id": "QxwAzSl-1Joy"
      },
      "outputs": [],
      "source": [
        "from sklearn.base import BaseEstimator, RegressorMixin, TransformerMixin\n",
        "\n",
        "class DocumentsTransformer(BaseEstimator, TransformerMixin):\n",
        "\n",
        "    def fit(self, X, y=None):\n",
        "        return self\n",
        "\n",
        "    def transform(self, X):\n",
        "        return [x[\"reviewText\"] for x in X]"
      ]
    },
    {
      "cell_type": "code",
      "execution_count": null,
      "metadata": {
        "id": "az-rX7Bz1Jo3"
      },
      "outputs": [],
      "source": [
        "from spacy.lang.en import STOP_WORDS\n",
        "import spacy\n",
        "from sklearn.feature_extraction.text import TfidfVectorizer\n",
        "from sklearn.linear_model import SGDRegressor, Ridge\n",
        "from sklearn.pipeline import Pipeline\n",
        "\n",
        "nlp = spacy.load('en')\n",
        "STOP_WORDS = {stop_word.replace(\"'\", \"\") for stop_word in STOP_WORDS}\n",
        "stop_words_str = \" \".join(STOP_WORDS) # nlp function needs a string\n",
        "stop_words_lemma = set(word.lemma_.lower() for word in nlp(stop_words_str))\n",
        "\n",
        "def lemmatizer(text):\n",
        "    return [word.lemma_.lower() for word in nlp(text)]\n",
        "\n",
        "def pipe_model(estimator):\n",
        "    tfidf = TfidfVectorizer(stop_words=stop_words_lemma, tokenizer=lemmatizer, ngram_range=(1, 2))\n",
        "    pipe = Pipeline([('documents', DocumentsTransformer()), ('vectorizer', tfidf), ('regressor', SGDRegressor())])\n",
        "    return pipe\n",
        "\n",
        "tfidf = TfidfVectorizer(stop_words=stop_words_lemma, tokenizer=lemmatizer, ngram_range=(1, 2))\n",
        "pipe = Pipeline([('documents', DocumentsTransformer()), ('vectorizer', tfidf), ('regressor', Ridge(random_state=42, solver='sag', max_iter=1000, alpha=10.0))])"
      ]
    },
    {
      "cell_type": "code",
      "execution_count": null,
      "metadata": {
        "id": "eRScAO5v1Jo_"
      },
      "outputs": [],
      "source": [
        "#pipe.get_params()"
      ]
    },
    {
      "cell_type": "code",
      "execution_count": null,
      "metadata": {
        "id": "vW4_tSEY1JpB"
      },
      "outputs": [],
      "source": [
        "sgd = {'regressor__loss': [\"squared_loss\", \"huber\", \"epsilon_insensitive\"], 'regressor__penalty':['l2', \"l1\", 'elasticnet'], 'regressor__average':[False, True]}\n",
        "\n",
        "from sklearn.model_selection import RepeatedStratifiedKFold\n",
        "from sklearn.model_selection import RandomizedSearchCV, train_test_split\n",
        "\n",
        "X_train, X_test, y_train, y_test = train_test_split(data, ratings, test_size=0.1)\n",
        "\n",
        "#cv = RepeatedStratifiedKFold(n_splits=10, n_repeats=3, random_state=1)\n",
        "#gs = RandomizedSearchCV( pipe, param_distributions = sgd, n_iter=10, n_jobs=-2, cv=5, scoring='r2')\n",
        "#gs.fit(X_test, y_test)\n",
        "\n",
        "#gs.best_score_\n",
        "#gs.best_params_\n",
        "\n",
        "from sklearn.model_selection import cross_val_score\n",
        "\n",
        "scores = cross_val_score(pipe, X_test, y_test, cv=5, scoring='r2')"
      ]
    },
    {
      "cell_type": "code",
      "execution_count": null,
      "metadata": {
        "id": "KTQNk64v1JpD",
        "outputId": "c05f51a0-5cea-4f4d-cfaa-527019ad1438"
      },
      "outputs": [
        {
          "data": {
            "text/plain": [
              "Pipeline(steps=[('documents', DocumentsTransformer()),\n",
              "                ('vectorizer',\n",
              "                 TfidfVectorizer(ngram_range=(1, 2),\n",
              "                                 stop_words={\"'\", \"'s\", '-pron-', 'a', 'about',\n",
              "                                             'above', 'across', 'after',\n",
              "                                             'afterwards', 'again', 'against',\n",
              "                                             'all', 'almost', 'alone', 'along',\n",
              "                                             'already', 'also', 'although',\n",
              "                                             'always', 'among', 'amongst',\n",
              "                                             'amount', 'an', 'and', 'another',\n",
              "                                             'any', 'anyhow', 'anyone',\n",
              "                                             'anything', 'anyway', ...},\n",
              "                                 tokenizer=<function lemmatizer at 0x7fb8b46ebf70>)),\n",
              "                ('regressor',\n",
              "                 Ridge(alpha=10.0, max_iter=1000, random_state=42,\n",
              "                       solver='sag'))])"
            ]
          },
          "execution_count": 10,
          "metadata": {},
          "output_type": "execute_result"
        }
      ],
      "source": [
        "\n",
        "bag_of_words_model = Pipeline([('documents', DocumentsTransformer()), \n",
        "                               ('vectorizer', tfidf), \n",
        "                               ('regressor', Ridge(random_state=42, solver='sag', max_iter=1000, alpha=10.0))])\n",
        "bag_of_words_model.fit(data, ratings)"
      ]
    },
    {
      "cell_type": "code",
      "execution_count": null,
      "metadata": {
        "id": "8jfnib8m1JpJ",
        "outputId": "494ba572-b70d-4b8c-bb8b-de0ac52e6f87"
      },
      "outputs": [
        {
          "name": "stdout",
          "output_type": "stream",
          "text": [
            "==================\n",
            "Your score: 1.544\n",
            "==================\n"
          ]
        }
      ],
      "source": [
        "grader.score.nlp__bag_of_words_model(bag_of_words_model.predict)"
      ]
    },
    {
      "cell_type": "markdown",
      "metadata": {
        "id": "fghDvszF1JpL"
      },
      "source": [
        "## Question 2: Normalized model\n",
        "\n",
        "Using raw counts will not be as effective compared if we had normalized the counts. There are several ways to normalize raw counts; the `HashingVectorizer` class has the keyword `norm` and there is also the `TfidfTransformer` and `TfidfVectorizer` that perform tf-idf weighting on the counts. Apply normalization to your model to improve performance."
      ]
    },
    {
      "cell_type": "code",
      "execution_count": null,
      "metadata": {
        "id": "Du6oCMTV1JpM"
      },
      "outputs": [],
      "source": [
        "\n",
        "normalized_model = Pipeline([('documents', DocumentsTransformer()), \n",
        "                               ('vectorizer', TfidfVectorizer(stop_words=None)), \n",
        "                               ('regressor', Ridge(random_state=42, solver='sag', max_iter=1000))])"
      ]
    },
    {
      "cell_type": "code",
      "execution_count": null,
      "metadata": {
        "id": "XpMxhc1S1JpN",
        "outputId": "d4c0136f-618d-4df5-cfdb-1ea4a08b0ee8"
      },
      "outputs": [
        {
          "data": {
            "text/plain": [
              "Pipeline(steps=[('documents', DocumentsTransformer()),\n",
              "                ('vectorizer', TfidfVectorizer()),\n",
              "                ('regressor',\n",
              "                 Ridge(max_iter=1000, random_state=42, solver='sag'))])"
            ]
          },
          "execution_count": 23,
          "metadata": {},
          "output_type": "execute_result"
        }
      ],
      "source": [
        "normalized_model.fit(data, ratings)"
      ]
    },
    {
      "cell_type": "code",
      "execution_count": null,
      "metadata": {
        "id": "ADO0PdQs1JpR",
        "outputId": "b33efecf-59ca-410c-bcca-c44c36252dd3"
      },
      "outputs": [
        {
          "name": "stdout",
          "output_type": "stream",
          "text": [
            "==================\n",
            "Your score: 1.059\n",
            "==================\n"
          ]
        }
      ],
      "source": [
        "grader.score.nlp__normalized_model(normalized_model.predict)"
      ]
    },
    {
      "cell_type": "markdown",
      "metadata": {
        "id": "idA2tPPR1JpT"
      },
      "source": [
        "## Question 3: Bigrams model\n",
        "\n",
        "The model performance may increase when including additional features generated by counting bigrams. Include bigrams to your model. When using more features, the risk of overfitting increases. Make sure you try to minimize overfitting as much as possible."
      ]
    },
    {
      "cell_type": "code",
      "execution_count": null,
      "metadata": {
        "id": "ZVNu1H9G1JpV"
      },
      "outputs": [],
      "source": [
        "\n",
        "bigrams_model = Pipeline([('documents', DocumentsTransformer()), \n",
        "                          ('vectorizer', TfidfVectorizer(stop_words=None, ngram_range=(1, 2))), \n",
        "                          ('regressor', Ridge(random_state=42, solver='sag', max_iter=1000))])"
      ]
    },
    {
      "cell_type": "code",
      "execution_count": null,
      "metadata": {
        "id": "KyBQhAlT1JpX",
        "outputId": "109ce826-8fd2-47b2-b437-208d55abd1a7"
      },
      "outputs": [
        {
          "data": {
            "text/plain": [
              "Pipeline(steps=[('documents', DocumentsTransformer()),\n",
              "                ('vectorizer', TfidfVectorizer(ngram_range=(1, 2))),\n",
              "                ('regressor',\n",
              "                 Ridge(max_iter=1000, random_state=42, solver='sag'))])"
            ]
          },
          "execution_count": 12,
          "metadata": {},
          "output_type": "execute_result"
        }
      ],
      "source": [
        "bigrams_model.fit(data, ratings)"
      ]
    },
    {
      "cell_type": "code",
      "execution_count": null,
      "metadata": {
        "id": "A3WX_7k61JpY",
        "outputId": "452d19d8-158d-486c-abb6-a4f0d50e381f"
      },
      "outputs": [
        {
          "name": "stdout",
          "output_type": "stream",
          "text": [
            "==================\n",
            "Your score: 1.179\n",
            "==================\n"
          ]
        }
      ],
      "source": [
        "grader.score.nlp__bigrams_model(bigrams_model.predict)"
      ]
    },
    {
      "cell_type": "markdown",
      "metadata": {
        "id": "9sBMIh0X1JpZ"
      },
      "source": [
        "## Question 4: Polarity analysis\n",
        "\n",
        "Let's derive some insight from our analysis. We want to determine the most polarizing words in the corpus of reviews. In other words, we want identify words that strongly signal a review is either positive or negative. For example, we understand a word like \"terrible\" will mostly appear in negative rather than positive reviews. The naive Bayes model calculates probabilities such as $P(\\text{terrible } | \\text{ negative})$, the probability the word \"terrible\" appears in the text, given that the review is negative. Using these probabilities, we can derive a **polarity score** for each counted word,\n",
        "\n",
        "$$\n",
        "\\text{polarity} =  \\log\\left(\\frac{P(\\text{word } | \\text{ positive})}{P(\\text{word } | \\text{ negative})}\\right).\n",
        "$$ \n",
        "\n",
        "The polarity analysis is an example where a simpler model offers more explicability than a more complicated model. For this question, you are asked to determine the top twenty-five words with the largest positive **and** largest negative polarity, for a total of fifty words. For this analysis, you should:\n",
        "\n",
        "1. Use the naive Bayes model, `MultinomialNB`.\n",
        "1. Use tf-idf weighting.\n",
        "1. Remove stop words.\n",
        "\n",
        "A trained naive Bayes model stores the log of the probabilities in the attribute `feature_log_prob_`. It is a NumPy array of shape (number of classes, the number of features). You will need the mapping between feature index to word. For this problem, you will use a different data set; it has been processed to only include reviews with one and five stars. You can download it below."
      ]
    },
    {
      "cell_type": "code",
      "execution_count": null,
      "metadata": {
        "scrolled": true,
        "id": "rxwol_Fz1Jpa",
        "outputId": "3ea33979-61fb-4d3f-fcf2-9f512b52c7fa"
      },
      "outputs": [
        {
          "name": "stderr",
          "output_type": "stream",
          "text": [
            "File ‘./data/amazon_one_and_five_star_reviews.json.gz’ already there; not retrieving.\n",
            "\n"
          ]
        }
      ],
      "source": [
        "%%bash\n",
        "wget http://dataincubator-wqu.s3.amazonaws.com/mldata/amazon_one_and_five_star_reviews.json.gz -nc -P ./data"
      ]
    },
    {
      "cell_type": "markdown",
      "metadata": {
        "id": "B_qjdE1y1Jpd"
      },
      "source": [
        "In order to avoid memory issues, let's delete the older data."
      ]
    },
    {
      "cell_type": "code",
      "execution_count": null,
      "metadata": {
        "id": "6kkr7J0w1Jpf"
      },
      "outputs": [],
      "source": [
        "del data, ratings"
      ]
    },
    {
      "cell_type": "code",
      "execution_count": null,
      "metadata": {
        "id": "tiGpycDq1Jpf"
      },
      "outputs": [],
      "source": [
        "import numpy as np\n",
        "from sklearn.naive_bayes import MultinomialNB\n",
        "\n",
        "with gzip.open(\"data/amazon_one_and_five_star_reviews.json.gz\", \"r\") as f:\n",
        "    data_polarity = [json.loads(line) for line in f]\n",
        "\n",
        "ratings = [review[\"overall\"] for review in data_polarity]\n"
      ]
    },
    {
      "cell_type": "code",
      "execution_count": null,
      "metadata": {
        "id": "OiddfIGK1Jpg"
      },
      "outputs": [],
      "source": [
        "from sklearn.naive_bayes import MultinomialNB\n",
        "\n",
        "tfidf = TfidfVectorizer(ngram_range=(1, 1), stop_words=STOP_WORDS)\n",
        "pipe = Pipeline([('documents', DocumentsTransformer()),\n",
        "                 ('vectorizer', tfidf), \n",
        "                 ('classifier', MultinomialNB())])"
      ]
    },
    {
      "cell_type": "code",
      "execution_count": null,
      "metadata": {
        "scrolled": true,
        "id": "oq8mmrZG1Jpg",
        "outputId": "cb047087-feab-4eae-b65a-1302c62cb967"
      },
      "outputs": [
        {
          "data": {
            "text/plain": [
              "Pipeline(steps=[('documents', DocumentsTransformer()),\n",
              "                ('vectorizer',\n",
              "                 TfidfVectorizer(stop_words={'a', 'about', 'above', 'across',\n",
              "                                             'after', 'afterwards', 'again',\n",
              "                                             'against', 'all', 'almost',\n",
              "                                             'alone', 'along', 'already',\n",
              "                                             'also', 'although', 'always', 'am',\n",
              "                                             'among', 'amongst', 'amount', 'an',\n",
              "                                             'and', 'another', 'any', 'anyhow',\n",
              "                                             'anyone', 'anything', 'anyway',\n",
              "                                             'anywhere', 'are', ...})),\n",
              "                ('classifier', MultinomialNB())])"
            ]
          },
          "execution_count": 34,
          "metadata": {},
          "output_type": "execute_result"
        }
      ],
      "source": [
        "pipe.fit(data_polarity, ratings)"
      ]
    },
    {
      "cell_type": "code",
      "execution_count": null,
      "metadata": {
        "id": "ZLcfumdF1Jpm",
        "outputId": "8939404c-b6c6-4d75-a1b4-def24bf1ca5e"
      },
      "outputs": [
        {
          "data": {
            "text/plain": [
              "['highly',\n",
              " 'beat',\n",
              " 'protects',\n",
              " 'perfect',\n",
              " 'monopod',\n",
              " 'portrait',\n",
              " 'amazing',\n",
              " 'sturdy',\n",
              " 'macro',\n",
              " 'incredible',\n",
              " 'excellent',\n",
              " 'bokeh',\n",
              " 'pleased',\n",
              " '200mm',\n",
              " 'charm',\n",
              " 'handy',\n",
              " 'awesome',\n",
              " 'portraits',\n",
              " 'dslr',\n",
              " 'crisp',\n",
              " 'photography',\n",
              " 'telephoto',\n",
              " 'buck',\n",
              " 'fantastic',\n",
              " 'regrets',\n",
              " 'refused',\n",
              " 'threw',\n",
              " 'disappointing',\n",
              " 'stopped',\n",
              " 'randomly',\n",
              " 'unreliable',\n",
              " 'horrible',\n",
              " 'awful',\n",
              " 'unacceptable',\n",
              " 'poor',\n",
              " 'beware',\n",
              " 'defective',\n",
              " 'trash',\n",
              " 'worse',\n",
              " 'worthless',\n",
              " 'useless',\n",
              " 'garbage',\n",
              " 'returned',\n",
              " 'terrible',\n",
              " 'junk',\n",
              " 'worst',\n",
              " 'returning',\n",
              " 'return',\n",
              " 'waste',\n",
              " 'refund']"
            ]
          },
          "execution_count": 37,
          "metadata": {},
          "output_type": "execute_result"
        }
      ],
      "source": [
        "import numpy as np\n",
        "\n",
        "features = pipe.named_steps.vectorizer.get_feature_names()\n",
        "pLogs = pipe.named_steps.classifier.feature_log_prob_\n",
        "polarity = pLogs[1]-pLogs[0]\n",
        "bot_25 = np.argsort(polarity)[:25]\n",
        "top_25 = np.argsort(polarity)[-25:]\n",
        "ind_50 = (list(bot_25) + list(top_25))[::-1]\n",
        "top_50 = [features[i] for i in ind_50]\n",
        "top_50"
      ]
    },
    {
      "cell_type": "code",
      "execution_count": null,
      "metadata": {
        "id": "50FigwKb1Jpo",
        "outputId": "01ab50e4-2fe9-41bc-9bc9-be67908d28d3"
      },
      "outputs": [
        {
          "name": "stdout",
          "output_type": "stream",
          "text": [
            "==================\n",
            "Your score: 1.000\n",
            "==================\n"
          ]
        }
      ],
      "source": [
        "grader.score.nlp__most_polar(top_50)"
      ]
    },
    {
      "cell_type": "markdown",
      "metadata": {
        "id": "BD2yKxl01Jpo"
      },
      "source": [
        "## Question 5: Topic modeling [optional]\n",
        "\n",
        "Topic modeling is the analysis of determining the key topics or themes in a corpus. With respect to machine learning, topic modeling is an unsupervised technique. One way to uncover the main topics in a corpus is to use [non-negative matrix factorization](https://scikit-learn.org/stable/modules/generated/sklearn.decomposition.NMF.html). For this question, use non-negative matrix factorization to determine the top ten words for the first twenty topics. You should submit your answer as a list of lists. What topics exist in the reviews?"
      ]
    },
    {
      "cell_type": "code",
      "execution_count": null,
      "metadata": {
        "id": "zpzrPhb71Jpo"
      },
      "outputs": [],
      "source": [
        "from sklearn.decomposition import NMF\n",
        " "
      ]
    },
    {
      "cell_type": "markdown",
      "metadata": {
        "id": "rIQGumMA1Jpr"
      },
      "source": [
        "*Copyright &copy; 2021 WorldQuant University. This content is licensed solely for personal use. Redistribution or publication of this material is strictly prohibited.*"
      ]
    }
  ],
  "metadata": {
    "kernelspec": {
      "display_name": "Python 3",
      "language": "python",
      "name": "python3"
    },
    "language_info": {
      "codemirror_mode": {
        "name": "ipython",
        "version": 3
      },
      "file_extension": ".py",
      "mimetype": "text/x-python",
      "name": "python",
      "nbconvert_exporter": "python",
      "pygments_lexer": "ipython3",
      "version": "3.8.8"
    },
    "nbclean": true,
    "colab": {
      "name": "NLP mini project",
      "provenance": [],
      "include_colab_link": true
    }
  },
  "nbformat": 4,
  "nbformat_minor": 0
}