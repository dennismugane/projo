{
  "cells": [
    {
      "cell_type": "markdown",
      "metadata": {
        "id": "view-in-github",
        "colab_type": "text"
      },
      "source": [
        "<a href=\"https://colab.research.google.com/github/dennismugane/projo/blob/master/machine_learning_mini_project.ipynb\" target=\"_parent\"><img src=\"https://colab.research.google.com/assets/colab-badge.svg\" alt=\"Open In Colab\"/></a>"
      ]
    },
    {
      "cell_type": "code",
      "execution_count": null,
      "metadata": {
        "init_cell": true,
        "id": "esn0l_rI0Wf-"
      },
      "outputs": [],
      "source": [
        "%logstop\n",
        "%logstart -rtq ~/.logs/ml.py append\n",
        "import seaborn as sns\n",
        "sns.set()"
      ]
    },
    {
      "cell_type": "code",
      "execution_count": null,
      "metadata": {
        "id": "nh0iU38g0WgK"
      },
      "outputs": [],
      "source": [
        "from static_grader import grader\n",
        "from sklearn import set_config\n",
        "\n",
        "set_config(display=\"diagram\")"
      ]
    },
    {
      "cell_type": "markdown",
      "metadata": {
        "id": "vJfrbOqC0WgN"
      },
      "source": [
        "# ML Miniproject\n",
        "## Introduction\n",
        "\n",
        "The objective of this miniproject is to exercise your ability to create effective machine learning models for making predictions. We will be working with nursing home inspection data from the United States, predicting which providers may be fined and for how much.\n",
        "\n",
        "## Scoring\n",
        "\n",
        "In this miniproject you will often submit your model's `predict` or `predict_proba` method to the grader. The grader will assess the performance of your model using a scoring metric, comparing it against the score of a reference model. We will use the [average precision score](http://scikit-learn.org/stable/modules/generated/sklearn.metrics.average_precision_score.html). If your model performs better than the reference solution, then you can score higher than 1.0.\n",
        "\n",
        "**Note:** If you use an estimator that relies on random draws (like a `RandomForestClassifier`) you should set the `random_state=` to an integer so that your results are reproducible. \n",
        "\n",
        "## Downloading the data\n",
        "\n",
        "We can download the data set from Amazon S3:"
      ]
    },
    {
      "cell_type": "code",
      "execution_count": null,
      "metadata": {
        "id": "nzNzLAZb0Wga",
        "outputId": "32ec52e7-5408-4e46-d813-b92a6df5190c"
      },
      "outputs": [
        {
          "name": "stderr",
          "output_type": "stream",
          "text": [
            "mkdir: cannot create directory ‘data’: File exists\n",
            "File ‘./ml-data/providers-train.csv’ already there; not retrieving.\n",
            "\n",
            "File ‘./ml-data/providers-metadata.csv’ already there; not retrieving.\n",
            "\n"
          ]
        }
      ],
      "source": [
        "%%bash\n",
        "mkdir data\n",
        "wget http://dataincubator-wqu.s3.amazonaws.com/mldata/providers-train.csv -nc -P ./ml-data\n",
        "wget http://dataincubator-wqu.s3.amazonaws.com/mldata/providers-metadata.csv -nc -P ./ml-data"
      ]
    },
    {
      "cell_type": "markdown",
      "metadata": {
        "id": "-Oczksbz0Wgf"
      },
      "source": [
        "We'll load the data into a Pandas DataFrame. Several columns will become target labels in future questions. Let's pop those columns out from the data, and drop related columns that are neither targets nor reasonable features (i.e. we don't wouldn't know how many times a facility denied payment before knowing whether it was fined).\n",
        "\n",
        "The data has many columns. We have also provided a data dictionary."
      ]
    },
    {
      "cell_type": "code",
      "execution_count": null,
      "metadata": {
        "id": "2PN-b4nP0Wgh"
      },
      "outputs": [],
      "source": [
        "import numpy as np\n",
        "import pandas as pd"
      ]
    },
    {
      "cell_type": "code",
      "execution_count": null,
      "metadata": {
        "id": "MRRz_ZIz0Wgj",
        "outputId": "a7f404fd-9882-4a80-910b-7e3010d94146"
      },
      "outputs": [
        {
          "data": {
            "text/html": [
              "<div>\n",
              "<style scoped>\n",
              "    .dataframe tbody tr th:only-of-type {\n",
              "        vertical-align: middle;\n",
              "    }\n",
              "\n",
              "    .dataframe tbody tr th {\n",
              "        vertical-align: top;\n",
              "    }\n",
              "\n",
              "    .dataframe thead th {\n",
              "        text-align: right;\n",
              "    }\n",
              "</style>\n",
              "<table border=\"1\" class=\"dataframe\">\n",
              "  <thead>\n",
              "    <tr style=\"text-align: right;\">\n",
              "      <th></th>\n",
              "      <th>Variable</th>\n",
              "      <th>Label</th>\n",
              "      <th>Description</th>\n",
              "      <th>Format</th>\n",
              "    </tr>\n",
              "  </thead>\n",
              "  <tbody>\n",
              "    <tr>\n",
              "      <th>0</th>\n",
              "      <td>PROVNUM</td>\n",
              "      <td>Federal Provider Number</td>\n",
              "      <td>Federal Provider Number</td>\n",
              "      <td>6 alphanumeric characters</td>\n",
              "    </tr>\n",
              "    <tr>\n",
              "      <th>1</th>\n",
              "      <td>PROVNAME</td>\n",
              "      <td>Provider Name</td>\n",
              "      <td>Provider Name</td>\n",
              "      <td>text</td>\n",
              "    </tr>\n",
              "    <tr>\n",
              "      <th>2</th>\n",
              "      <td>ADDRESS</td>\n",
              "      <td>Provider Address</td>\n",
              "      <td>Provider Address</td>\n",
              "      <td>text</td>\n",
              "    </tr>\n",
              "    <tr>\n",
              "      <th>3</th>\n",
              "      <td>CITY</td>\n",
              "      <td>Provider City</td>\n",
              "      <td>Provider City</td>\n",
              "      <td>text</td>\n",
              "    </tr>\n",
              "    <tr>\n",
              "      <th>4</th>\n",
              "      <td>STATE</td>\n",
              "      <td>Provider State</td>\n",
              "      <td>Provider State</td>\n",
              "      <td>2-character postal abbreviation</td>\n",
              "    </tr>\n",
              "    <tr>\n",
              "      <th>...</th>\n",
              "      <td>...</td>\n",
              "      <td>...</td>\n",
              "      <td>...</td>\n",
              "      <td>...</td>\n",
              "    </tr>\n",
              "    <tr>\n",
              "      <th>74</th>\n",
              "      <td>FINE_TOT</td>\n",
              "      <td>Total Amount of Fines in Dollars</td>\n",
              "      <td>Total Amount of Fines in Dollars</td>\n",
              "      <td>integer</td>\n",
              "    </tr>\n",
              "    <tr>\n",
              "      <th>75</th>\n",
              "      <td>PAYDEN_CNT</td>\n",
              "      <td>Number of Payment Denials</td>\n",
              "      <td>Number of Payment Denials</td>\n",
              "      <td>integer</td>\n",
              "    </tr>\n",
              "    <tr>\n",
              "      <th>76</th>\n",
              "      <td>TOT_PENLTY_CNT</td>\n",
              "      <td>Total Number of Penalties</td>\n",
              "      <td>Total Number of Penalties</td>\n",
              "      <td>integer</td>\n",
              "    </tr>\n",
              "    <tr>\n",
              "      <th>77</th>\n",
              "      <td>LOCATION</td>\n",
              "      <td>Location</td>\n",
              "      <td>Location of facility</td>\n",
              "      <td>only on displayed version of file; renders as ...</td>\n",
              "    </tr>\n",
              "    <tr>\n",
              "      <th>78</th>\n",
              "      <td>FILEDATE</td>\n",
              "      <td>Processing Date</td>\n",
              "      <td>Date the data were retrieved</td>\n",
              "      <td>date</td>\n",
              "    </tr>\n",
              "  </tbody>\n",
              "</table>\n",
              "<p>79 rows × 4 columns</p>\n",
              "</div>"
            ],
            "text/plain": [
              "          Variable                             Label  \\\n",
              "0          PROVNUM           Federal Provider Number   \n",
              "1         PROVNAME                     Provider Name   \n",
              "2          ADDRESS                  Provider Address   \n",
              "3             CITY                     Provider City   \n",
              "4            STATE                    Provider State   \n",
              "..             ...                               ...   \n",
              "74        FINE_TOT  Total Amount of Fines in Dollars   \n",
              "75      PAYDEN_CNT         Number of Payment Denials   \n",
              "76  TOT_PENLTY_CNT         Total Number of Penalties   \n",
              "77        LOCATION                          Location   \n",
              "78        FILEDATE                   Processing Date   \n",
              "\n",
              "                         Description  \\\n",
              "0            Federal Provider Number   \n",
              "1                      Provider Name   \n",
              "2                   Provider Address   \n",
              "3                      Provider City   \n",
              "4                     Provider State   \n",
              "..                               ...   \n",
              "74  Total Amount of Fines in Dollars   \n",
              "75         Number of Payment Denials   \n",
              "76         Total Number of Penalties   \n",
              "77              Location of facility   \n",
              "78      Date the data were retrieved   \n",
              "\n",
              "                                               Format  \n",
              "0                           6 alphanumeric characters  \n",
              "1                                                text  \n",
              "2                                                text  \n",
              "3                                                text  \n",
              "4                     2-character postal abbreviation  \n",
              "..                                                ...  \n",
              "74                                            integer  \n",
              "75                                            integer  \n",
              "76                                            integer  \n",
              "77  only on displayed version of file; renders as ...  \n",
              "78                                               date  \n",
              "\n",
              "[79 rows x 4 columns]"
            ]
          },
          "execution_count": 199,
          "metadata": {},
          "output_type": "execute_result"
        }
      ],
      "source": [
        "metadata = pd.read_csv('./ml-data/providers-metadata.csv')\n",
        "metadata"
      ]
    },
    {
      "cell_type": "code",
      "execution_count": null,
      "metadata": {
        "scrolled": false,
        "id": "_NhtBQ9X0Wgm",
        "outputId": "fcab2646-d007-4888-d317-6f9f04b45fec"
      },
      "outputs": [
        {
          "data": {
            "text/html": [
              "<div>\n",
              "<style scoped>\n",
              "    .dataframe tbody tr th:only-of-type {\n",
              "        vertical-align: middle;\n",
              "    }\n",
              "\n",
              "    .dataframe tbody tr th {\n",
              "        vertical-align: top;\n",
              "    }\n",
              "\n",
              "    .dataframe thead th {\n",
              "        text-align: right;\n",
              "    }\n",
              "</style>\n",
              "<table border=\"1\" class=\"dataframe\">\n",
              "  <thead>\n",
              "    <tr style=\"text-align: right;\">\n",
              "      <th></th>\n",
              "      <th>PROVNUM</th>\n",
              "      <th>PROVNAME</th>\n",
              "      <th>ADDRESS</th>\n",
              "      <th>CITY</th>\n",
              "      <th>STATE</th>\n",
              "      <th>ZIP</th>\n",
              "      <th>PHONE</th>\n",
              "      <th>COUNTY_SSA</th>\n",
              "      <th>COUNTY_NAME</th>\n",
              "      <th>BEDCERT</th>\n",
              "      <th>...</th>\n",
              "      <th>CERTIFICATION</th>\n",
              "      <th>CYCLE_1_DEFS</th>\n",
              "      <th>CYCLE_1_NFROMDEFS</th>\n",
              "      <th>CYCLE_1_NFROMCOMP</th>\n",
              "      <th>CYCLE_1_DEFS_SCORE</th>\n",
              "      <th>CYCLE_1_NUMREVIS</th>\n",
              "      <th>CYCLE_1_REVISIT_SCORE</th>\n",
              "      <th>CYCLE_1_TOTAL_SCORE</th>\n",
              "      <th>CYCLE_1_SURVEY_DATE</th>\n",
              "      <th>CYCLE_2_SURVEY_DATE</th>\n",
              "    </tr>\n",
              "  </thead>\n",
              "  <tbody>\n",
              "    <tr>\n",
              "      <th>0</th>\n",
              "      <td>015010</td>\n",
              "      <td>COOSA VALLEY NURSING FACILITY</td>\n",
              "      <td>315 WEST HICKORY STREET</td>\n",
              "      <td>SYLACAUGA</td>\n",
              "      <td>AL</td>\n",
              "      <td>35150</td>\n",
              "      <td>2562495604</td>\n",
              "      <td>600</td>\n",
              "      <td>Talladega</td>\n",
              "      <td>85</td>\n",
              "      <td>...</td>\n",
              "      <td>Medicare and Medicaid</td>\n",
              "      <td>7</td>\n",
              "      <td>7</td>\n",
              "      <td>0</td>\n",
              "      <td>36</td>\n",
              "      <td>1</td>\n",
              "      <td>0</td>\n",
              "      <td>36</td>\n",
              "      <td>2017-04-06</td>\n",
              "      <td>2016-05-26</td>\n",
              "    </tr>\n",
              "    <tr>\n",
              "      <th>1</th>\n",
              "      <td>015012</td>\n",
              "      <td>HIGHLANDS HEALTH AND REHAB</td>\n",
              "      <td>380 WOODS COVE ROAD</td>\n",
              "      <td>SCOTTSBORO</td>\n",
              "      <td>AL</td>\n",
              "      <td>35768</td>\n",
              "      <td>2562183708</td>\n",
              "      <td>350</td>\n",
              "      <td>Jackson</td>\n",
              "      <td>50</td>\n",
              "      <td>...</td>\n",
              "      <td>Medicare and Medicaid</td>\n",
              "      <td>5</td>\n",
              "      <td>5</td>\n",
              "      <td>0</td>\n",
              "      <td>44</td>\n",
              "      <td>1</td>\n",
              "      <td>0</td>\n",
              "      <td>44</td>\n",
              "      <td>2017-03-16</td>\n",
              "      <td>2016-02-04</td>\n",
              "    </tr>\n",
              "    <tr>\n",
              "      <th>2</th>\n",
              "      <td>015014</td>\n",
              "      <td>EASTVIEW REHABILITATION &amp; HEALTHCARE CENTER</td>\n",
              "      <td>7755 FOURTH AVENUE SOUTH</td>\n",
              "      <td>BIRMINGHAM</td>\n",
              "      <td>AL</td>\n",
              "      <td>35206</td>\n",
              "      <td>2058330146</td>\n",
              "      <td>360</td>\n",
              "      <td>Jefferson</td>\n",
              "      <td>92</td>\n",
              "      <td>...</td>\n",
              "      <td>Medicare and Medicaid</td>\n",
              "      <td>6</td>\n",
              "      <td>6</td>\n",
              "      <td>0</td>\n",
              "      <td>40</td>\n",
              "      <td>1</td>\n",
              "      <td>0</td>\n",
              "      <td>40</td>\n",
              "      <td>2016-10-20</td>\n",
              "      <td>2015-12-30</td>\n",
              "    </tr>\n",
              "    <tr>\n",
              "      <th>3</th>\n",
              "      <td>015015</td>\n",
              "      <td>PLANTATION MANOR NURSING HOME</td>\n",
              "      <td>6450 OLD TUSCALOOSA HIGHWAY   P O BOX 97</td>\n",
              "      <td>MC CALLA</td>\n",
              "      <td>AL</td>\n",
              "      <td>35111</td>\n",
              "      <td>2054776161</td>\n",
              "      <td>360</td>\n",
              "      <td>Jefferson</td>\n",
              "      <td>103</td>\n",
              "      <td>...</td>\n",
              "      <td>Medicare and Medicaid</td>\n",
              "      <td>2</td>\n",
              "      <td>2</td>\n",
              "      <td>0</td>\n",
              "      <td>16</td>\n",
              "      <td>1</td>\n",
              "      <td>0</td>\n",
              "      <td>16</td>\n",
              "      <td>2017-03-09</td>\n",
              "      <td>2016-02-11</td>\n",
              "    </tr>\n",
              "    <tr>\n",
              "      <th>4</th>\n",
              "      <td>015016</td>\n",
              "      <td>ATHENS HEALTH AND REHABILITATION LLC</td>\n",
              "      <td>611 WEST MARKET STREET</td>\n",
              "      <td>ATHENS</td>\n",
              "      <td>AL</td>\n",
              "      <td>35611</td>\n",
              "      <td>2562321620</td>\n",
              "      <td>410</td>\n",
              "      <td>Limestone</td>\n",
              "      <td>149</td>\n",
              "      <td>...</td>\n",
              "      <td>Medicare and Medicaid</td>\n",
              "      <td>2</td>\n",
              "      <td>2</td>\n",
              "      <td>0</td>\n",
              "      <td>20</td>\n",
              "      <td>1</td>\n",
              "      <td>0</td>\n",
              "      <td>20</td>\n",
              "      <td>2017-06-01</td>\n",
              "      <td>2016-05-12</td>\n",
              "    </tr>\n",
              "  </tbody>\n",
              "</table>\n",
              "<p>5 rows × 29 columns</p>\n",
              "</div>"
            ],
            "text/plain": [
              "  PROVNUM                                     PROVNAME  \\\n",
              "0  015010                COOSA VALLEY NURSING FACILITY   \n",
              "1  015012                   HIGHLANDS HEALTH AND REHAB   \n",
              "2  015014  EASTVIEW REHABILITATION & HEALTHCARE CENTER   \n",
              "3  015015                PLANTATION MANOR NURSING HOME   \n",
              "4  015016         ATHENS HEALTH AND REHABILITATION LLC   \n",
              "\n",
              "                                    ADDRESS        CITY STATE    ZIP  \\\n",
              "0                   315 WEST HICKORY STREET   SYLACAUGA    AL  35150   \n",
              "1                       380 WOODS COVE ROAD  SCOTTSBORO    AL  35768   \n",
              "2                  7755 FOURTH AVENUE SOUTH  BIRMINGHAM    AL  35206   \n",
              "3  6450 OLD TUSCALOOSA HIGHWAY   P O BOX 97    MC CALLA    AL  35111   \n",
              "4                    611 WEST MARKET STREET      ATHENS    AL  35611   \n",
              "\n",
              "        PHONE  COUNTY_SSA COUNTY_NAME  BEDCERT  ...          CERTIFICATION  \\\n",
              "0  2562495604         600   Talladega       85  ...  Medicare and Medicaid   \n",
              "1  2562183708         350     Jackson       50  ...  Medicare and Medicaid   \n",
              "2  2058330146         360   Jefferson       92  ...  Medicare and Medicaid   \n",
              "3  2054776161         360   Jefferson      103  ...  Medicare and Medicaid   \n",
              "4  2562321620         410   Limestone      149  ...  Medicare and Medicaid   \n",
              "\n",
              "   CYCLE_1_DEFS  CYCLE_1_NFROMDEFS  CYCLE_1_NFROMCOMP  CYCLE_1_DEFS_SCORE  \\\n",
              "0             7                  7                  0                  36   \n",
              "1             5                  5                  0                  44   \n",
              "2             6                  6                  0                  40   \n",
              "3             2                  2                  0                  16   \n",
              "4             2                  2                  0                  20   \n",
              "\n",
              "   CYCLE_1_NUMREVIS  CYCLE_1_REVISIT_SCORE  CYCLE_1_TOTAL_SCORE  \\\n",
              "0                 1                      0                   36   \n",
              "1                 1                      0                   44   \n",
              "2                 1                      0                   40   \n",
              "3                 1                      0                   16   \n",
              "4                 1                      0                   20   \n",
              "\n",
              "  CYCLE_1_SURVEY_DATE CYCLE_2_SURVEY_DATE  \n",
              "0          2017-04-06          2016-05-26  \n",
              "1          2017-03-16          2016-02-04  \n",
              "2          2016-10-20          2015-12-30  \n",
              "3          2017-03-09          2016-02-11  \n",
              "4          2017-06-01          2016-05-12  \n",
              "\n",
              "[5 rows x 29 columns]"
            ]
          },
          "execution_count": 200,
          "metadata": {},
          "output_type": "execute_result"
        }
      ],
      "source": [
        "data = pd.read_csv('./ml-data/providers-train.csv', encoding='latin1')\n",
        "\n",
        "fine_counts = data.pop('FINE_CNT')\n",
        "fine_totals = data.pop('FINE_TOT')\n",
        "cycle_2_score = data.pop('CYCLE_2_TOTAL_SCORE')\n",
        "data.head ()"
      ]
    },
    {
      "cell_type": "code",
      "execution_count": null,
      "metadata": {
        "id": "yoljKKJP0Wg3",
        "outputId": "8badd335-8398-4763-9589-b6b0d8ce60af"
      },
      "outputs": [
        {
          "data": {
            "text/html": [
              "<div>\n",
              "<style scoped>\n",
              "    .dataframe tbody tr th:only-of-type {\n",
              "        vertical-align: middle;\n",
              "    }\n",
              "\n",
              "    .dataframe tbody tr th {\n",
              "        vertical-align: top;\n",
              "    }\n",
              "\n",
              "    .dataframe thead th {\n",
              "        text-align: right;\n",
              "    }\n",
              "</style>\n",
              "<table border=\"1\" class=\"dataframe\">\n",
              "  <thead>\n",
              "    <tr style=\"text-align: right;\">\n",
              "      <th></th>\n",
              "      <th>STATE</th>\n",
              "      <th>target</th>\n",
              "    </tr>\n",
              "  </thead>\n",
              "  <tbody>\n",
              "  </tbody>\n",
              "</table>\n",
              "</div>"
            ],
            "text/plain": [
              "Empty DataFrame\n",
              "Columns: [STATE, target]\n",
              "Index: []"
            ]
          },
          "execution_count": 201,
          "metadata": {},
          "output_type": "execute_result"
        }
      ],
      "source": [
        "ss = data.loc[:, ['STATE']]\n",
        "ss['target'] = fine_totals\n",
        "v = ss.groupby('STATE')['target'].mean().to_dict()\n",
        "x = data.loc[:, ['STATE']]\n",
        "x['y'] = x['STATE'].map(v)\n",
        "ss[ss['STATE']=='AS']"
      ]
    },
    {
      "cell_type": "markdown",
      "metadata": {
        "id": "l6KHhYAg0Wg5"
      },
      "source": [
        "## Question 1: state_model\n",
        "\n",
        "A federal agency, Centers for Medicare and Medicaid Services (CMS), imposes regulations on nursing homes. However, nursing homes are inspected by state agencies for compliance with regulations, and fines for violations can vary widely between states.\n",
        "\n",
        "Let's develop a very simple initial model to predict the amount of fines a nursing home might expect to pay based on its location. Fill in the class definition of the custom estimator, `StateMeanEstimator`, below.\n",
        "\n",
        "**Note:** When the grader checks your answer, it passes a list of dictionaries to the `predict` method of your estimator, not a DataFrame. This means that your model must work with both data types. You can handle this by adding a test (and optional conversion) in the `predict` method of your custom class, similar to the `ColumnSelectTransformer` given below in Question 2.  "
      ]
    },
    {
      "cell_type": "code",
      "execution_count": null,
      "metadata": {
        "id": "doqjpT3t0WhA"
      },
      "outputs": [],
      "source": [
        "def not_df(x):\n",
        "    if isinstance(x, pd.DataFrame):\n",
        "        return False\n",
        "    return True"
      ]
    },
    {
      "cell_type": "code",
      "execution_count": null,
      "metadata": {
        "id": "Fk7lyPaU0WhB"
      },
      "outputs": [],
      "source": [
        "from sklearn.base import BaseEstimator, RegressorMixin, TransformerMixin\n",
        "from sklearn.impute import SimpleImputer\n",
        "from sklearn.preprocessing import StandardScaler\n",
        "\n",
        "class GroupMeanEstimator(BaseEstimator, RegressorMixin):\n",
        "    def __init__(self, grouper):\n",
        "        self.grouper = grouper\n",
        "        self.group_averages = {}\n",
        "        self.y_mean = 0 \n",
        "\n",
        "    def fit(self, X, y):\n",
        "        # Use self.group_averages to store the average penalty by group\n",
        "        Xt = X.loc[:, ['STATE']]\n",
        "        Xt['target'] = y\n",
        "        self.group_averages = Xt.groupby(self.grouper)['target'].mean().to_dict()\n",
        "        self.y_mean = Xt['target'].mean()\n",
        "        return self\n",
        "\n",
        "    def predict(self, X):\n",
        "        dfp = X\n",
        "        if not_df(X):\n",
        "            dfp = pd.DataFrame(X)\n",
        "        dfp['predicted'] = dfp[self.grouper].map(self.group_averages).fillna(self.y_mean)\n",
        "        # Return a list of predicted penalties based on group of samples in X\n",
        "        return dfp['predicted'].tolist()"
      ]
    },
    {
      "cell_type": "markdown",
      "metadata": {
        "id": "sCEGLWh_0WhE"
      },
      "source": [
        "After filling in class definition, we can create an instance of the estimator and fit it to the data."
      ]
    },
    {
      "cell_type": "code",
      "execution_count": null,
      "metadata": {
        "id": "LmZf1nb_0WhF",
        "outputId": "94cb9bf2-261e-4e01-e3b1-857a4d47554c"
      },
      "outputs": [
        {
          "data": {
            "text/html": [
              "<style>div.sk-top-container {color: black;background-color: white;}div.sk-toggleable {background-color: white;}label.sk-toggleable__label {cursor: pointer;display: block;width: 100%;margin-bottom: 0;padding: 0.2em 0.3em;box-sizing: border-box;text-align: center;}div.sk-toggleable__content {max-height: 0;max-width: 0;overflow: hidden;text-align: left;background-color: #f0f8ff;}div.sk-toggleable__content pre {margin: 0.2em;color: black;border-radius: 0.25em;background-color: #f0f8ff;}input.sk-toggleable__control:checked~div.sk-toggleable__content {max-height: 200px;max-width: 100%;overflow: auto;}div.sk-estimator input.sk-toggleable__control:checked~label.sk-toggleable__label {background-color: #d4ebff;}div.sk-label input.sk-toggleable__control:checked~label.sk-toggleable__label {background-color: #d4ebff;}input.sk-hidden--visually {border: 0;clip: rect(1px 1px 1px 1px);clip: rect(1px, 1px, 1px, 1px);height: 1px;margin: -1px;overflow: hidden;padding: 0;position: absolute;width: 1px;}div.sk-estimator {font-family: monospace;background-color: #f0f8ff;margin: 0.25em 0.25em;border: 1px dotted black;border-radius: 0.25em;box-sizing: border-box;}div.sk-estimator:hover {background-color: #d4ebff;}div.sk-parallel-item::after {content: \"\";width: 100%;border-bottom: 1px solid gray;flex-grow: 1;}div.sk-label:hover label.sk-toggleable__label {background-color: #d4ebff;}div.sk-serial::before {content: \"\";position: absolute;border-left: 1px solid gray;box-sizing: border-box;top: 2em;bottom: 0;left: 50%;}div.sk-serial {display: flex;flex-direction: column;align-items: center;background-color: white;}div.sk-item {z-index: 1;}div.sk-parallel {display: flex;align-items: stretch;justify-content: center;background-color: white;}div.sk-parallel-item {display: flex;flex-direction: column;position: relative;background-color: white;}div.sk-parallel-item:first-child::after {align-self: flex-end;width: 50%;}div.sk-parallel-item:last-child::after {align-self: flex-start;width: 50%;}div.sk-parallel-item:only-child::after {width: 0;}div.sk-dashed-wrapped {border: 1px dashed gray;margin: 0.2em;box-sizing: border-box;padding-bottom: 0.1em;background-color: white;position: relative;}div.sk-label label {font-family: monospace;font-weight: bold;background-color: white;display: inline-block;line-height: 1.2em;}div.sk-label-container {position: relative;z-index: 2;text-align: center;}div.sk-container {display: inline-block;position: relative;}</style><div class=\"sk-top-container\"><div class=\"sk-container\"><div class=\"sk-item sk-dashed-wrapped\"><div class=\"sk-label-container\"><div class=\"sk-label sk-toggleable\"><input class=\"sk-toggleable__control sk-hidden--visually\" id=\"d47dd004-320a-4068-968f-f5ec51f74704\" type=\"checkbox\" ><label class=\"sk-toggleable__label\" for=\"d47dd004-320a-4068-968f-f5ec51f74704\">Pipeline</label><div class=\"sk-toggleable__content\"><pre>Pipeline(steps=[('sme', GroupMeanEstimator(grouper='STATE'))])</pre></div></div></div><div class=\"sk-serial\"><div class=\"sk-item\"><div class=\"sk-estimator sk-toggleable\"><input class=\"sk-toggleable__control sk-hidden--visually\" id=\"5828ff93-2b7b-41b1-b0d8-7f634810a1e9\" type=\"checkbox\" ><label class=\"sk-toggleable__label\" for=\"5828ff93-2b7b-41b1-b0d8-7f634810a1e9\">GroupMeanEstimator</label><div class=\"sk-toggleable__content\"><pre>GroupMeanEstimator(grouper='STATE')</pre></div></div></div></div></div></div></div>"
            ],
            "text/plain": [
              "Pipeline(steps=[('sme', GroupMeanEstimator(grouper='STATE'))])"
            ]
          },
          "execution_count": 41,
          "metadata": {},
          "output_type": "execute_result"
        }
      ],
      "source": [
        "from sklearn.pipeline import Pipeline\n",
        "\n",
        "state_model = Pipeline([\n",
        "    ('sme', GroupMeanEstimator(grouper='STATE'))\n",
        "    ])\n",
        "state_model.fit(data, fine_totals)"
      ]
    },
    {
      "cell_type": "markdown",
      "metadata": {
        "id": "icWRil0Q0WhG"
      },
      "source": [
        "Next we should test that our predict method works."
      ]
    },
    {
      "cell_type": "code",
      "execution_count": null,
      "metadata": {
        "id": "tcKflHfo0WhH",
        "outputId": "4c06e3da-aaec-47cf-c4c9-939e21d2e97e"
      },
      "outputs": [
        {
          "data": {
            "text/plain": [
              "[9216.964686998395,\n",
              " 42806.67661691542,\n",
              " 12365.983606557376,\n",
              " 8054.977611940299,\n",
              " 17596.6815920398]"
            ]
          },
          "execution_count": 42,
          "metadata": {},
          "output_type": "execute_result"
        }
      ],
      "source": [
        "state_model.predict(data.sample(5))"
      ]
    },
    {
      "cell_type": "markdown",
      "metadata": {
        "id": "STpgg5MD0WhJ"
      },
      "source": [
        "However, what if we have data from a nursing home in a state (or territory) of the US which is not in the training data?"
      ]
    },
    {
      "cell_type": "code",
      "execution_count": null,
      "metadata": {
        "id": "DTFPv27D0WhJ",
        "outputId": "d6ebafa8-74f1-4b46-a16d-05d8ac7c2622"
      },
      "outputs": [
        {
          "data": {
            "text/plain": [
              "[14969.857687877915]"
            ]
          },
          "execution_count": 43,
          "metadata": {},
          "output_type": "execute_result"
        }
      ],
      "source": [
        "state_model.predict(pd.DataFrame([{'STATE': 'AS'}]))"
      ]
    },
    {
      "cell_type": "markdown",
      "metadata": {
        "id": "oYoQ5PGi0WhQ"
      },
      "source": [
        "Make sure your model can handle this possibility before submitting your model's predict method to the grader."
      ]
    },
    {
      "cell_type": "code",
      "execution_count": null,
      "metadata": {
        "id": "izLrNAzn0WhR",
        "outputId": "a006ac8c-8921-404d-f97e-e4b60eb83512"
      },
      "outputs": [
        {
          "name": "stdout",
          "output_type": "stream",
          "text": [
            "==================\n",
            "Your score: 1.000\n",
            "==================\n"
          ]
        }
      ],
      "source": [
        "grader.score.ml__state_model(state_model.predict)"
      ]
    },
    {
      "cell_type": "markdown",
      "metadata": {
        "id": "vyznWWmi0WhS"
      },
      "source": [
        "## Question 2: simple_features_model\n",
        "\n",
        "Nursing homes vary greatly in their business characteristics. Some are owned by the government or non-profits while others are run for profit. Some house a few dozen residents while others house hundreds. Some are located within hospitals and may work with more vulnerable populations. We will try to predict which facilities are fined based on their business characteristics.\n",
        "\n",
        "We'll begin with columns in our DataFrame containing numeric and boolean features. Some of the rows contain null values; estimators cannot handle null values so these must be imputed or dropped. We will create a `Pipeline` containing transformers that process these features, followed by an estimator.\n",
        "\n",
        "**Note:** As mentioned above in Question 1, when the grader checks your answer, it passes a list of dictionaries to the `predict` or `predict_proba` method of your estimator, not a DataFrame. This means that your model must work with both data types. For this reason, we've provided a custom `ColumnSelectTransformer` for you to use instead `scikit-learn`'s own `ColumnTransformer`."
      ]
    },
    {
      "cell_type": "code",
      "execution_count": null,
      "metadata": {
        "id": "o91KXeIQ0WhU"
      },
      "outputs": [],
      "source": [
        "\n",
        "simple_cols = ['BEDCERT', 'RESTOT', 'INHOSP', 'CCRC_FACIL', 'SFF', 'CHOW_LAST_12MOS', 'SPRINKLER_STATUS', 'EXP_TOTAL', 'ADJ_TOTAL']\n",
        "\n",
        "class ColumnSelectTransformer(BaseEstimator, TransformerMixin):\n",
        "    def __init__(self, columns):\n",
        "        self.columns = columns\n",
        "\n",
        "    def fit(self, X, y=None):\n",
        "        return self\n",
        "\n",
        "    def transform(self, X):\n",
        "        if not isinstance(X, pd.DataFrame):\n",
        "            X = pd.DataFrame(X)\n",
        "        return X[self.columns].copy()\n",
        "        \n",
        "simple_features = Pipeline([\n",
        "    ('cst', ColumnSelectTransformer(simple_cols)),\n",
        "])\n",
        "#simple_features.fit_transform(data).info()"
      ]
    },
    {
      "cell_type": "markdown",
      "metadata": {
        "id": "cdlNyql40WhV"
      },
      "source": [
        "**Note:** The assertion below assumes the output of `noncategorical_features.fit_transform` is a `ndarray`, not a `DataFrame`.)"
      ]
    },
    {
      "cell_type": "code",
      "execution_count": null,
      "metadata": {
        "id": "iw7oVMr70WhW"
      },
      "outputs": [],
      "source": [
        "assert data['RESTOT'].isnull().sum() > 0\n",
        "#assert not np.isnan(simple_features.fit_transform(data)).any()"
      ]
    },
    {
      "cell_type": "code",
      "execution_count": null,
      "metadata": {
        "id": "NDymNbgC0WhX"
      },
      "outputs": [],
      "source": [
        "from sklearn.compose import make_column_selector as c_selector\n",
        "from sklearn.compose import make_column_transformer\n",
        "from sklearn.preprocessing import StandardScaler, OneHotEncoder\n",
        "from sklearn.pipeline import Pipeline\n",
        "from sklearn.linear_model import LogisticRegression\n",
        "\n",
        "def pipe_model(estimator):\n",
        "    numerical = c_selector(dtype_include=np.number)\n",
        "    categorical = c_selector(dtype_include=bool)\n",
        "    num_pipe = Pipeline([('scaler', StandardScaler()), ('simpleimputer', SimpleImputer(strategy='mean'))])\n",
        "    ct = make_column_transformer((num_pipe, numerical), (OneHotEncoder(handle_unknown = 'ignore'), categorical), remainder = 'passthrough')\n",
        "    pipe = Pipeline([('simple', simple_features), ('ct', ct), (estimator[0], estimator[1])])\n",
        "    return pipe\n",
        "\n",
        "overall_params = {'ct__pipeline__simpleimputer__strategy':['mean', 'median', 'mode', 'constant']}"
      ]
    },
    {
      "cell_type": "code",
      "execution_count": null,
      "metadata": {
        "id": "8k8xYsUg0Wha"
      },
      "outputs": [],
      "source": [
        "from sklearn.svm import SVC\n",
        "from sklearn.ensemble import RandomForestClassifier, GradientBoostingClassifier, ExtraTreesClassifier\n",
        "from sklearn.tree import DecisionTreeClassifier\n",
        "\n",
        "logi=LogisticRegression(random_state=4, n_jobs=-1, solver=  'liblinear', penalty= 'l2', C= 100)\n",
        "rf=RandomForestClassifier(random_state=4, n_jobs=-1, max_features=\"auto\", warm_start=True, n_estimators= 700, min_samples_leaf= 27, max_depth= 15)\n",
        "gb=GradientBoostingClassifier(random_state=4, subsample=0.8, max_features=\"auto\", warm_start=True)\n",
        "dt = DecisionTreeClassifier()\n",
        "\n",
        "hyper_param = {'logi': {'logi__solver': ['newton-cg', 'lbfgs', 'liblinear'], 'logi__penalty':['l2', 'elasticnet'], 'logi__C':[100, 10, 1.0, 0.1, 0.01]}, \n",
        "               'rf': {\"rf__max_depth\": range(5,30,5), \"rf__min_samples_leaf\": range(1,30,2), \"rf__n_estimators\":range(100,2000,200)}, \n",
        "               'gb': {\"gb__max_depth\": range(5,30,5), \"gb__min_samples_leaf\": range(1,30,2), \"gb__n_estimators\":range(100,2000,200)},\n",
        "               'dt': {\"dt__max_depth\": range(5,30,5), \"dt__min_samples_leaf\": range(1,30,2), 'dt__min_samples_split': range(10, 110, 10)}}\n",
        "\n",
        "estimators = {'logi': logi, 'rf': rf, 'gb': gb, 'dt': dt}"
      ]
    },
    {
      "cell_type": "code",
      "execution_count": null,
      "metadata": {
        "id": "Fhq7XjJi0Whb"
      },
      "outputs": [],
      "source": [
        "from sklearn.model_selection import RepeatedStratifiedKFold\n",
        "from sklearn.model_selection import RandomizedSearchCV\n",
        "\n",
        "cv = RepeatedStratifiedKFold(n_splits=10, n_repeats=3, random_state=1)\n",
        "scores = {}\n",
        "best_params = {}\n",
        "for name, estimator in estimators.items():\n",
        "    gs = RandomizedSearchCV( pipe_model((name, estimator)), param_distributions=dict(overall_params, **hyper_param[name]), \n",
        "                            n_iter=10, n_jobs=4, cv=5, scoring='average_precision')\n",
        "    gs.fit(data, fine_counts > 0)\n",
        "\n",
        "    scores[name] = gs.best_score_\n",
        "    best_params[name] = gs.best_params_"
      ]
    },
    {
      "cell_type": "markdown",
      "metadata": {
        "id": "YOepQTpI0Whe"
      },
      "source": [
        "Now combine the `simple_features` pipeline with an estimator in a new pipeline. Fit `simple_features_model` to the data and submit `simple_features_model.predict_proba` to the grader. You may wish to use cross-validation to tune the hyperparameters of your model."
      ]
    },
    {
      "cell_type": "code",
      "execution_count": null,
      "metadata": {
        "scrolled": true,
        "id": "ka-we2og0Whf"
      },
      "outputs": [],
      "source": [
        "simple_features_model = Pipeline([\n",
        "    ('simple', simple_features),\n",
        "    # add your estimator here\n",
        "    ('pipe', pipe_model(('rf', rf)))\n",
        "])"
      ]
    },
    {
      "cell_type": "code",
      "execution_count": null,
      "metadata": {
        "id": "nUhsO7qE0Whg",
        "outputId": "1d85113d-8b7e-4738-bf2b-61b93442327b"
      },
      "outputs": [
        {
          "data": {
            "text/html": [
              "<style>div.sk-top-container {color: black;background-color: white;}div.sk-toggleable {background-color: white;}label.sk-toggleable__label {cursor: pointer;display: block;width: 100%;margin-bottom: 0;padding: 0.2em 0.3em;box-sizing: border-box;text-align: center;}div.sk-toggleable__content {max-height: 0;max-width: 0;overflow: hidden;text-align: left;background-color: #f0f8ff;}div.sk-toggleable__content pre {margin: 0.2em;color: black;border-radius: 0.25em;background-color: #f0f8ff;}input.sk-toggleable__control:checked~div.sk-toggleable__content {max-height: 200px;max-width: 100%;overflow: auto;}div.sk-estimator input.sk-toggleable__control:checked~label.sk-toggleable__label {background-color: #d4ebff;}div.sk-label input.sk-toggleable__control:checked~label.sk-toggleable__label {background-color: #d4ebff;}input.sk-hidden--visually {border: 0;clip: rect(1px 1px 1px 1px);clip: rect(1px, 1px, 1px, 1px);height: 1px;margin: -1px;overflow: hidden;padding: 0;position: absolute;width: 1px;}div.sk-estimator {font-family: monospace;background-color: #f0f8ff;margin: 0.25em 0.25em;border: 1px dotted black;border-radius: 0.25em;box-sizing: border-box;}div.sk-estimator:hover {background-color: #d4ebff;}div.sk-parallel-item::after {content: \"\";width: 100%;border-bottom: 1px solid gray;flex-grow: 1;}div.sk-label:hover label.sk-toggleable__label {background-color: #d4ebff;}div.sk-serial::before {content: \"\";position: absolute;border-left: 1px solid gray;box-sizing: border-box;top: 2em;bottom: 0;left: 50%;}div.sk-serial {display: flex;flex-direction: column;align-items: center;background-color: white;}div.sk-item {z-index: 1;}div.sk-parallel {display: flex;align-items: stretch;justify-content: center;background-color: white;}div.sk-parallel-item {display: flex;flex-direction: column;position: relative;background-color: white;}div.sk-parallel-item:first-child::after {align-self: flex-end;width: 50%;}div.sk-parallel-item:last-child::after {align-self: flex-start;width: 50%;}div.sk-parallel-item:only-child::after {width: 0;}div.sk-dashed-wrapped {border: 1px dashed gray;margin: 0.2em;box-sizing: border-box;padding-bottom: 0.1em;background-color: white;position: relative;}div.sk-label label {font-family: monospace;font-weight: bold;background-color: white;display: inline-block;line-height: 1.2em;}div.sk-label-container {position: relative;z-index: 2;text-align: center;}div.sk-container {display: inline-block;position: relative;}</style><div class=\"sk-top-container\"><div class=\"sk-container\"><div class=\"sk-item sk-dashed-wrapped\"><div class=\"sk-label-container\"><div class=\"sk-label sk-toggleable\"><input class=\"sk-toggleable__control sk-hidden--visually\" id=\"148b48c6-8e0f-40d5-8ba9-7fc27175aab4\" type=\"checkbox\" ><label class=\"sk-toggleable__label\" for=\"148b48c6-8e0f-40d5-8ba9-7fc27175aab4\">Pipeline</label><div class=\"sk-toggleable__content\"><pre>Pipeline(steps=[('simple',\n",
              "                 Pipeline(steps=[('cst',\n",
              "                                  ColumnSelectTransformer(columns=['BEDCERT',\n",
              "                                                                   'RESTOT',\n",
              "                                                                   'INHOSP',\n",
              "                                                                   'CCRC_FACIL',\n",
              "                                                                   'SFF',\n",
              "                                                                   'CHOW_LAST_12MOS',\n",
              "                                                                   'SPRINKLER_STATUS',\n",
              "                                                                   'EXP_TOTAL',\n",
              "                                                                   'ADJ_TOTAL']))])),\n",
              "                ('pipe',\n",
              "                 Pipeline(steps=[('simple',\n",
              "                                  Pipeline(steps=[('cst',\n",
              "                                                   ColumnSelectTransformer(columns=['BEDCERT',\n",
              "                                                                                    'RESTOT',\n",
              "                                                                                    'INHOSP',\n",
              "                                                                                    'CCRC_FACIL',\n",
              "                                                                                    'SFF',\n",
              "                                                                                    'CHOW_LAST_12MOS'...\n",
              "                                                                                    SimpleImputer())]),\n",
              "                                                                   <sklearn.compose._column_transformer.make_column_selector object at 0x7f85c59d4700>),\n",
              "                                                                  ('onehotencoder',\n",
              "                                                                   OneHotEncoder(handle_unknown='ignore'),\n",
              "                                                                   <sklearn.compose._column_transformer.make_column_selector object at 0x7f85c66efe20>)])),\n",
              "                                 ('rf',\n",
              "                                  RandomForestClassifier(max_depth=15,\n",
              "                                                         min_samples_leaf=27,\n",
              "                                                         n_estimators=700,\n",
              "                                                         n_jobs=-1,\n",
              "                                                         random_state=4,\n",
              "                                                         warm_start=True))]))])</pre></div></div></div><div class=\"sk-serial\"><div class=\"sk-item\"><div class=\"sk-label-container\"><div class=\"sk-label sk-toggleable\"><input class=\"sk-toggleable__control sk-hidden--visually\" id=\"03523a66-5fd9-47b7-8ad9-f4efb171387e\" type=\"checkbox\" ><label class=\"sk-toggleable__label\" for=\"03523a66-5fd9-47b7-8ad9-f4efb171387e\">simple: Pipeline</label><div class=\"sk-toggleable__content\"><pre>Pipeline(steps=[('cst',\n",
              "                 ColumnSelectTransformer(columns=['BEDCERT', 'RESTOT', 'INHOSP',\n",
              "                                                  'CCRC_FACIL', 'SFF',\n",
              "                                                  'CHOW_LAST_12MOS',\n",
              "                                                  'SPRINKLER_STATUS',\n",
              "                                                  'EXP_TOTAL', 'ADJ_TOTAL']))])</pre></div></div></div><div class=\"sk-serial\"><div class=\"sk-item\"><div class=\"sk-estimator sk-toggleable\"><input class=\"sk-toggleable__control sk-hidden--visually\" id=\"5342fac9-a4ca-4ab0-9889-931d2a9347b9\" type=\"checkbox\" ><label class=\"sk-toggleable__label\" for=\"5342fac9-a4ca-4ab0-9889-931d2a9347b9\">ColumnSelectTransformer</label><div class=\"sk-toggleable__content\"><pre>ColumnSelectTransformer(columns=['BEDCERT', 'RESTOT', 'INHOSP', 'CCRC_FACIL',\n",
              "                                 'SFF', 'CHOW_LAST_12MOS', 'SPRINKLER_STATUS',\n",
              "                                 'EXP_TOTAL', 'ADJ_TOTAL'])</pre></div></div></div></div></div><div class=\"sk-item\"><div class=\"sk-label-container\"><div class=\"sk-label sk-toggleable\"><input class=\"sk-toggleable__control sk-hidden--visually\" id=\"264d5000-f543-4a77-926b-6925a8f53c20\" type=\"checkbox\" ><label class=\"sk-toggleable__label\" for=\"264d5000-f543-4a77-926b-6925a8f53c20\">pipe: Pipeline</label><div class=\"sk-toggleable__content\"><pre>Pipeline(steps=[('simple',\n",
              "                 Pipeline(steps=[('cst',\n",
              "                                  ColumnSelectTransformer(columns=['BEDCERT',\n",
              "                                                                   'RESTOT',\n",
              "                                                                   'INHOSP',\n",
              "                                                                   'CCRC_FACIL',\n",
              "                                                                   'SFF',\n",
              "                                                                   'CHOW_LAST_12MOS',\n",
              "                                                                   'SPRINKLER_STATUS',\n",
              "                                                                   'EXP_TOTAL',\n",
              "                                                                   'ADJ_TOTAL']))])),\n",
              "                ('ct',\n",
              "                 ColumnTransformer(remainder='passthrough',\n",
              "                                   transformers=[('pipeline',\n",
              "                                                  Pipeline(steps=[('scaler',\n",
              "                                                                   StandardScaler()),\n",
              "                                                                  ('simpleimputer',\n",
              "                                                                   SimpleImputer())]),\n",
              "                                                  <sklearn.compose._column_transformer.make_column_selector object at 0x7f85c59d4700>),\n",
              "                                                 ('onehotencoder',\n",
              "                                                  OneHotEncoder(handle_unknown='ignore'),\n",
              "                                                  <sklearn.compose._column_transformer.make_column_selector object at 0x7f85c66efe20>)])),\n",
              "                ('rf',\n",
              "                 RandomForestClassifier(max_depth=15, min_samples_leaf=27,\n",
              "                                        n_estimators=700, n_jobs=-1,\n",
              "                                        random_state=4, warm_start=True))])</pre></div></div></div><div class=\"sk-serial\"><div class=\"sk-item\"><div class=\"sk-label-container\"><div class=\"sk-label sk-toggleable\"><input class=\"sk-toggleable__control sk-hidden--visually\" id=\"911a54d8-b2a1-4b2e-9969-b00e0c895a0e\" type=\"checkbox\" ><label class=\"sk-toggleable__label\" for=\"911a54d8-b2a1-4b2e-9969-b00e0c895a0e\">simple: Pipeline</label><div class=\"sk-toggleable__content\"><pre>Pipeline(steps=[('cst',\n",
              "                 ColumnSelectTransformer(columns=['BEDCERT', 'RESTOT', 'INHOSP',\n",
              "                                                  'CCRC_FACIL', 'SFF',\n",
              "                                                  'CHOW_LAST_12MOS',\n",
              "                                                  'SPRINKLER_STATUS',\n",
              "                                                  'EXP_TOTAL', 'ADJ_TOTAL']))])</pre></div></div></div><div class=\"sk-serial\"><div class=\"sk-item\"><div class=\"sk-estimator sk-toggleable\"><input class=\"sk-toggleable__control sk-hidden--visually\" id=\"bac78bd0-793a-47bb-99e8-00d1b470035b\" type=\"checkbox\" ><label class=\"sk-toggleable__label\" for=\"bac78bd0-793a-47bb-99e8-00d1b470035b\">ColumnSelectTransformer</label><div class=\"sk-toggleable__content\"><pre>ColumnSelectTransformer(columns=['BEDCERT', 'RESTOT', 'INHOSP', 'CCRC_FACIL',\n",
              "                                 'SFF', 'CHOW_LAST_12MOS', 'SPRINKLER_STATUS',\n",
              "                                 'EXP_TOTAL', 'ADJ_TOTAL'])</pre></div></div></div></div></div><div class=\"sk-item sk-dashed-wrapped\"><div class=\"sk-label-container\"><div class=\"sk-label sk-toggleable\"><input class=\"sk-toggleable__control sk-hidden--visually\" id=\"7b5c772e-974b-4bd1-92d8-85bf7107ecfb\" type=\"checkbox\" ><label class=\"sk-toggleable__label\" for=\"7b5c772e-974b-4bd1-92d8-85bf7107ecfb\">ct: ColumnTransformer</label><div class=\"sk-toggleable__content\"><pre>ColumnTransformer(remainder='passthrough',\n",
              "                  transformers=[('pipeline',\n",
              "                                 Pipeline(steps=[('scaler', StandardScaler()),\n",
              "                                                 ('simpleimputer',\n",
              "                                                  SimpleImputer())]),\n",
              "                                 <sklearn.compose._column_transformer.make_column_selector object at 0x7f85c59d4700>),\n",
              "                                ('onehotencoder',\n",
              "                                 OneHotEncoder(handle_unknown='ignore'),\n",
              "                                 <sklearn.compose._column_transformer.make_column_selector object at 0x7f85c66efe20>)])</pre></div></div></div><div class=\"sk-parallel\"><div class=\"sk-parallel-item\"><div class=\"sk-item\"><div class=\"sk-label-container\"><div class=\"sk-label sk-toggleable\"><input class=\"sk-toggleable__control sk-hidden--visually\" id=\"f0681285-147f-4218-911c-1fe59b5e7348\" type=\"checkbox\" ><label class=\"sk-toggleable__label\" for=\"f0681285-147f-4218-911c-1fe59b5e7348\">pipeline</label><div class=\"sk-toggleable__content\"><pre><sklearn.compose._column_transformer.make_column_selector object at 0x7f85c59d4700></pre></div></div></div><div class=\"sk-serial\"><div class=\"sk-item\"><div class=\"sk-serial\"><div class=\"sk-item\"><div class=\"sk-estimator sk-toggleable\"><input class=\"sk-toggleable__control sk-hidden--visually\" id=\"cf41f9ca-4e7a-4620-840e-dc1a66087caa\" type=\"checkbox\" ><label class=\"sk-toggleable__label\" for=\"cf41f9ca-4e7a-4620-840e-dc1a66087caa\">StandardScaler</label><div class=\"sk-toggleable__content\"><pre>StandardScaler()</pre></div></div></div><div class=\"sk-item\"><div class=\"sk-estimator sk-toggleable\"><input class=\"sk-toggleable__control sk-hidden--visually\" id=\"66a5c541-697e-4408-8a5d-769942f816ff\" type=\"checkbox\" ><label class=\"sk-toggleable__label\" for=\"66a5c541-697e-4408-8a5d-769942f816ff\">SimpleImputer</label><div class=\"sk-toggleable__content\"><pre>SimpleImputer()</pre></div></div></div></div></div></div></div></div><div class=\"sk-parallel-item\"><div class=\"sk-item\"><div class=\"sk-label-container\"><div class=\"sk-label sk-toggleable\"><input class=\"sk-toggleable__control sk-hidden--visually\" id=\"3db7c01a-ddae-40ce-9425-9250f905e691\" type=\"checkbox\" ><label class=\"sk-toggleable__label\" for=\"3db7c01a-ddae-40ce-9425-9250f905e691\">onehotencoder</label><div class=\"sk-toggleable__content\"><pre><sklearn.compose._column_transformer.make_column_selector object at 0x7f85c66efe20></pre></div></div></div><div class=\"sk-serial\"><div class=\"sk-item\"><div class=\"sk-estimator sk-toggleable\"><input class=\"sk-toggleable__control sk-hidden--visually\" id=\"7ae72209-c831-4aac-93bb-cc6ae0ee991b\" type=\"checkbox\" ><label class=\"sk-toggleable__label\" for=\"7ae72209-c831-4aac-93bb-cc6ae0ee991b\">OneHotEncoder</label><div class=\"sk-toggleable__content\"><pre>OneHotEncoder(handle_unknown='ignore')</pre></div></div></div></div></div></div></div></div><div class=\"sk-item\"><div class=\"sk-estimator sk-toggleable\"><input class=\"sk-toggleable__control sk-hidden--visually\" id=\"4c2e1d5f-eb31-4fc4-93fa-84deb1692e8f\" type=\"checkbox\" ><label class=\"sk-toggleable__label\" for=\"4c2e1d5f-eb31-4fc4-93fa-84deb1692e8f\">RandomForestClassifier</label><div class=\"sk-toggleable__content\"><pre>RandomForestClassifier(max_depth=15, min_samples_leaf=27, n_estimators=700,\n",
              "                       n_jobs=-1, random_state=4, warm_start=True)</pre></div></div></div></div></div></div></div></div></div>"
            ],
            "text/plain": [
              "Pipeline(steps=[('simple',\n",
              "                 Pipeline(steps=[('cst',\n",
              "                                  ColumnSelectTransformer(columns=['BEDCERT',\n",
              "                                                                   'RESTOT',\n",
              "                                                                   'INHOSP',\n",
              "                                                                   'CCRC_FACIL',\n",
              "                                                                   'SFF',\n",
              "                                                                   'CHOW_LAST_12MOS',\n",
              "                                                                   'SPRINKLER_STATUS',\n",
              "                                                                   'EXP_TOTAL',\n",
              "                                                                   'ADJ_TOTAL']))])),\n",
              "                ('pipe',\n",
              "                 Pipeline(steps=[('simple',\n",
              "                                  Pipeline(steps=[('cst',\n",
              "                                                   ColumnSelectTransformer(columns=['BEDCERT',\n",
              "                                                                                    'RESTOT',\n",
              "                                                                                    'INHOSP',\n",
              "                                                                                    'CCRC_FACIL',\n",
              "                                                                                    'SFF',\n",
              "                                                                                    'CHOW_LAST_12MOS'...\n",
              "                                                                                    SimpleImputer())]),\n",
              "                                                                   <sklearn.compose._column_transformer.make_column_selector object at 0x7f85c59d4700>),\n",
              "                                                                  ('onehotencoder',\n",
              "                                                                   OneHotEncoder(handle_unknown='ignore'),\n",
              "                                                                   <sklearn.compose._column_transformer.make_column_selector object at 0x7f85c66efe20>)])),\n",
              "                                 ('rf',\n",
              "                                  RandomForestClassifier(max_depth=15,\n",
              "                                                         min_samples_leaf=27,\n",
              "                                                         n_estimators=700,\n",
              "                                                         n_jobs=-1,\n",
              "                                                         random_state=4,\n",
              "                                                         warm_start=True))]))])"
            ]
          },
          "execution_count": 50,
          "metadata": {},
          "output_type": "execute_result"
        }
      ],
      "source": [
        "simple_features_model.fit(data, fine_counts > 0)"
      ]
    },
    {
      "cell_type": "code",
      "execution_count": null,
      "metadata": {
        "id": "qJXruGT90Whh",
        "outputId": "0808e66a-84b9-4928-8082-0fa13e52e03f"
      },
      "outputs": [
        {
          "name": "stdout",
          "output_type": "stream",
          "text": [
            "==================\n",
            "Your score: 1.078\n",
            "==================\n"
          ]
        }
      ],
      "source": [
        "def positive_probability(model):\n",
        "    def predict_proba(X):\n",
        "        return model.predict_proba(X)[:, 1]\n",
        "    return predict_proba\n",
        "\n",
        "grader.score.ml__simple_features(positive_probability(simple_features_model))"
      ]
    },
    {
      "cell_type": "markdown",
      "metadata": {
        "id": "PmkX-ECR0Whi"
      },
      "source": [
        "## Question 3: categorical_features"
      ]
    },
    {
      "cell_type": "markdown",
      "metadata": {
        "id": "WT2cQTm20Whj"
      },
      "source": [
        "The `'OWNERSHIP'` and `'CERTIFICATION'` columns contain categorical data. We will have to encode the categorical data into numerical features before we pass them to an estimator. Construct one or more pipelines for this purpose. Transformers such as [LabelEncoder](https://scikit-learn.org/0.19/modules/generated/sklearn.preprocessing.LabelEncoder.html#sklearn.preprocessing.LabelEncoder) and [OneHotEncoder](https://scikit-learn.org/0.19/modules/generated/sklearn.preprocessing.OneHotEncoder.html#sklearn.preprocessing.OneHotEncoder) may be useful, but you may also want to define your own transformers.\n",
        "\n",
        "If you used more than one `Pipeline`, combine them with a `FeatureUnion`. As in Question 2, we will combine this with an estimator, fit it, and submit the `predict_proba` method to the grader."
      ]
    },
    {
      "cell_type": "code",
      "execution_count": null,
      "metadata": {
        "id": "MTq4Tody0Wh9"
      },
      "outputs": [],
      "source": [
        "from sklearn.pipeline import FeatureUnion\n",
        "\n",
        "owner_onehot = Pipeline([\n",
        "    ('cst', ColumnSelectTransformer(['OWNERSHIP'])), \n",
        "    ('one-hot', OneHotEncoder(handle_unknown = 'ignore')),\n",
        "    ('simpleimputer', SimpleImputer(strategy='mean'))\n",
        "])\n",
        "\n",
        "cert_onehot = Pipeline([\n",
        "    ('cst', ColumnSelectTransformer(['CERTIFICATION'])), \n",
        "    ('one-hot', OneHotEncoder(handle_unknown = 'ignore')),\n",
        "    ('simpleimputer', SimpleImputer(strategy='mean'))\n",
        "])\n",
        "\n",
        "categorical_features = FeatureUnion([\n",
        "    ('owner', owner_onehot),\n",
        "    ('cert', cert_onehot)\n",
        "])"
      ]
    },
    {
      "cell_type": "code",
      "execution_count": null,
      "metadata": {
        "id": "Jo1WqqUt0Wh-",
        "outputId": "0d8f801c-df08-43f7-851c-a72ca2003ad2"
      },
      "outputs": [
        {
          "ename": "TypeError",
          "evalue": "ufunc 'isnan' not supported for the input types, and the inputs could not be safely coerced to any supported types according to the casting rule ''safe''",
          "output_type": "error",
          "traceback": [
            "\u001b[0;31m---------------------------------------------------------------------------\u001b[0m",
            "\u001b[0;31mTypeError\u001b[0m                                 Traceback (most recent call last)",
            "\u001b[0;32m<ipython-input-23-efa399c2f251>\u001b[0m in \u001b[0;36m<module>\u001b[0;34m\u001b[0m\n\u001b[1;32m      1\u001b[0m \u001b[0;32massert\u001b[0m \u001b[0mcategorical_features\u001b[0m\u001b[0;34m.\u001b[0m\u001b[0mfit_transform\u001b[0m\u001b[0;34m(\u001b[0m\u001b[0mdata\u001b[0m\u001b[0;34m)\u001b[0m\u001b[0;34m.\u001b[0m\u001b[0mshape\u001b[0m\u001b[0;34m[\u001b[0m\u001b[0;36m0\u001b[0m\u001b[0;34m]\u001b[0m \u001b[0;34m==\u001b[0m \u001b[0mdata\u001b[0m\u001b[0;34m.\u001b[0m\u001b[0mshape\u001b[0m\u001b[0;34m[\u001b[0m\u001b[0;36m0\u001b[0m\u001b[0;34m]\u001b[0m\u001b[0;34m\u001b[0m\u001b[0;34m\u001b[0m\u001b[0m\n\u001b[1;32m      2\u001b[0m \u001b[0;32massert\u001b[0m \u001b[0mcategorical_features\u001b[0m\u001b[0;34m.\u001b[0m\u001b[0mfit_transform\u001b[0m\u001b[0;34m(\u001b[0m\u001b[0mdata\u001b[0m\u001b[0;34m)\u001b[0m\u001b[0;34m.\u001b[0m\u001b[0mastype\u001b[0m\u001b[0;34m(\u001b[0m\u001b[0;34m'float64'\u001b[0m\u001b[0;34m)\u001b[0m\u001b[0;34m.\u001b[0m\u001b[0mdtype\u001b[0m \u001b[0;34m==\u001b[0m \u001b[0mnp\u001b[0m\u001b[0;34m.\u001b[0m\u001b[0mfloat64\u001b[0m\u001b[0;34m\u001b[0m\u001b[0;34m\u001b[0m\u001b[0m\n\u001b[0;32m----> 3\u001b[0;31m \u001b[0;32massert\u001b[0m \u001b[0;32mnot\u001b[0m \u001b[0mnp\u001b[0m\u001b[0;34m.\u001b[0m\u001b[0misnan\u001b[0m\u001b[0;34m(\u001b[0m\u001b[0mcategorical_features\u001b[0m\u001b[0;34m.\u001b[0m\u001b[0mfit_transform\u001b[0m\u001b[0;34m(\u001b[0m\u001b[0mdata\u001b[0m\u001b[0;34m)\u001b[0m\u001b[0;34m)\u001b[0m\u001b[0;34m.\u001b[0m\u001b[0many\u001b[0m\u001b[0;34m(\u001b[0m\u001b[0;34m)\u001b[0m\u001b[0;34m\u001b[0m\u001b[0;34m\u001b[0m\u001b[0m\n\u001b[0m",
            "\u001b[0;31mTypeError\u001b[0m: ufunc 'isnan' not supported for the input types, and the inputs could not be safely coerced to any supported types according to the casting rule ''safe''"
          ]
        }
      ],
      "source": [
        "assert categorical_features.fit_transform(data).shape[0] == data.shape[0]\n",
        "assert categorical_features.fit_transform(data).astype('float64').dtype == np.float64\n",
        "assert not np.isnan(categorical_features.fit_transform(data)).any()"
      ]
    },
    {
      "cell_type": "code",
      "execution_count": null,
      "metadata": {
        "id": "tFsshrDo0WiA"
      },
      "outputs": [],
      "source": [
        "import warnings\n",
        "from sklearn.exceptions import DataConversionWarning\n",
        "warnings.filterwarnings(action='ignore',category=DataConversionWarning)"
      ]
    },
    {
      "cell_type": "code",
      "execution_count": null,
      "metadata": {
        "id": "fU-GpjzY0WiB",
        "outputId": "821c1891-b2f7-43bd-e7fa-35658fa9c205"
      },
      "outputs": [
        {
          "name": "stderr",
          "output_type": "stream",
          "text": [
            "/opt/conda/lib/python3.8/site-packages/sklearn/utils/validation.py:67: FutureWarning: Pass classes=[False  True], y=0         True\n",
            "1        False\n",
            "2        False\n",
            "3        False\n",
            "4        False\n",
            "         ...  \n",
            "13887    False\n",
            "13888    False\n",
            "13889    False\n",
            "13890    False\n",
            "13891     True\n",
            "Name: FINE_CNT, Length: 13892, dtype: bool as keyword args. From version 0.25 passing these as positional arguments will result in an error\n",
            "  warnings.warn(\"Pass {} as keyword args. From version 0.25 \"\n"
          ]
        }
      ],
      "source": [
        "from sklearn import model_selection, utils\n",
        "\n",
        "class_weights = utils.class_weight.compute_class_weight(\n",
        "    'balanced',np.unique(fine_counts > 0),fine_counts > 0)\n",
        "classes = np.unique(fine_counts > 0)\n",
        "class_weights = dict(zip(classes,class_weights))"
      ]
    },
    {
      "cell_type": "markdown",
      "metadata": {
        "id": "3yQZvykb0WiC"
      },
      "source": [
        "As in the previous question, create a model using the `categorical_features`, fit it to the data, and submit its `predict_proba` method to the grader."
      ]
    },
    {
      "cell_type": "code",
      "execution_count": null,
      "metadata": {
        "id": "2mJjeT910WiE"
      },
      "outputs": [],
      "source": [
        "categorical_features_model = Pipeline([\n",
        "    ('categorical', categorical_features),\n",
        "    # add your estimator here\n",
        "    ('clf', DecisionTreeClassifier(random_state=42, max_depth=5, class_weight=class_weights)),\n",
        "])"
      ]
    },
    {
      "cell_type": "code",
      "execution_count": null,
      "metadata": {
        "id": "GJVkjxDO0WiF"
      },
      "outputs": [],
      "source": [
        ""
      ]
    },
    {
      "cell_type": "code",
      "execution_count": null,
      "metadata": {
        "scrolled": true,
        "id": "11eZMdvg0WiL",
        "outputId": "7309d352-a9e7-45b9-aa0c-95107c533e35"
      },
      "outputs": [
        {
          "data": {
            "text/html": [
              "<style>div.sk-top-container {color: black;background-color: white;}div.sk-toggleable {background-color: white;}label.sk-toggleable__label {cursor: pointer;display: block;width: 100%;margin-bottom: 0;padding: 0.2em 0.3em;box-sizing: border-box;text-align: center;}div.sk-toggleable__content {max-height: 0;max-width: 0;overflow: hidden;text-align: left;background-color: #f0f8ff;}div.sk-toggleable__content pre {margin: 0.2em;color: black;border-radius: 0.25em;background-color: #f0f8ff;}input.sk-toggleable__control:checked~div.sk-toggleable__content {max-height: 200px;max-width: 100%;overflow: auto;}div.sk-estimator input.sk-toggleable__control:checked~label.sk-toggleable__label {background-color: #d4ebff;}div.sk-label input.sk-toggleable__control:checked~label.sk-toggleable__label {background-color: #d4ebff;}input.sk-hidden--visually {border: 0;clip: rect(1px 1px 1px 1px);clip: rect(1px, 1px, 1px, 1px);height: 1px;margin: -1px;overflow: hidden;padding: 0;position: absolute;width: 1px;}div.sk-estimator {font-family: monospace;background-color: #f0f8ff;margin: 0.25em 0.25em;border: 1px dotted black;border-radius: 0.25em;box-sizing: border-box;}div.sk-estimator:hover {background-color: #d4ebff;}div.sk-parallel-item::after {content: \"\";width: 100%;border-bottom: 1px solid gray;flex-grow: 1;}div.sk-label:hover label.sk-toggleable__label {background-color: #d4ebff;}div.sk-serial::before {content: \"\";position: absolute;border-left: 1px solid gray;box-sizing: border-box;top: 2em;bottom: 0;left: 50%;}div.sk-serial {display: flex;flex-direction: column;align-items: center;background-color: white;}div.sk-item {z-index: 1;}div.sk-parallel {display: flex;align-items: stretch;justify-content: center;background-color: white;}div.sk-parallel-item {display: flex;flex-direction: column;position: relative;background-color: white;}div.sk-parallel-item:first-child::after {align-self: flex-end;width: 50%;}div.sk-parallel-item:last-child::after {align-self: flex-start;width: 50%;}div.sk-parallel-item:only-child::after {width: 0;}div.sk-dashed-wrapped {border: 1px dashed gray;margin: 0.2em;box-sizing: border-box;padding-bottom: 0.1em;background-color: white;position: relative;}div.sk-label label {font-family: monospace;font-weight: bold;background-color: white;display: inline-block;line-height: 1.2em;}div.sk-label-container {position: relative;z-index: 2;text-align: center;}div.sk-container {display: inline-block;position: relative;}</style><div class=\"sk-top-container\"><div class=\"sk-container\"><div class=\"sk-item sk-dashed-wrapped\"><div class=\"sk-label-container\"><div class=\"sk-label sk-toggleable\"><input class=\"sk-toggleable__control sk-hidden--visually\" id=\"56fcc7b8-baf7-464c-ac3f-b355c13ba21e\" type=\"checkbox\" ><label class=\"sk-toggleable__label\" for=\"56fcc7b8-baf7-464c-ac3f-b355c13ba21e\">Pipeline</label><div class=\"sk-toggleable__content\"><pre>Pipeline(steps=[('categorical',\n",
              "                 FeatureUnion(transformer_list=[('owner',\n",
              "                                                 Pipeline(steps=[('cst',\n",
              "                                                                  ColumnSelectTransformer(columns=['OWNERSHIP'])),\n",
              "                                                                 ('one-hot',\n",
              "                                                                  OneHotEncoder(handle_unknown='ignore')),\n",
              "                                                                 ('simpleimputer',\n",
              "                                                                  SimpleImputer())])),\n",
              "                                                ('cert',\n",
              "                                                 Pipeline(steps=[('cst',\n",
              "                                                                  ColumnSelectTransformer(columns=['CERTIFICATION'])),\n",
              "                                                                 ('one-hot',\n",
              "                                                                  OneHotEncoder(handle_unknown='ignore')),\n",
              "                                                                 ('simpleimputer',\n",
              "                                                                  SimpleImputer())]))])),\n",
              "                ('clf',\n",
              "                 DecisionTreeClassifier(class_weight={False: 0.7226383687057845,\n",
              "                                                      True: 1.6228971962616823},\n",
              "                                        max_depth=5, random_state=42))])</pre></div></div></div><div class=\"sk-serial\"><div class=\"sk-item sk-dashed-wrapped\"><div class=\"sk-label-container\"><div class=\"sk-label sk-toggleable\"><input class=\"sk-toggleable__control sk-hidden--visually\" id=\"d4f7ec87-d1d7-4b43-bf83-f1d2d826507b\" type=\"checkbox\" ><label class=\"sk-toggleable__label\" for=\"d4f7ec87-d1d7-4b43-bf83-f1d2d826507b\">categorical: FeatureUnion</label><div class=\"sk-toggleable__content\"><pre>FeatureUnion(transformer_list=[('owner',\n",
              "                                Pipeline(steps=[('cst',\n",
              "                                                 ColumnSelectTransformer(columns=['OWNERSHIP'])),\n",
              "                                                ('one-hot',\n",
              "                                                 OneHotEncoder(handle_unknown='ignore')),\n",
              "                                                ('simpleimputer',\n",
              "                                                 SimpleImputer())])),\n",
              "                               ('cert',\n",
              "                                Pipeline(steps=[('cst',\n",
              "                                                 ColumnSelectTransformer(columns=['CERTIFICATION'])),\n",
              "                                                ('one-hot',\n",
              "                                                 OneHotEncoder(handle_unknown='ignore')),\n",
              "                                                ('simpleimputer',\n",
              "                                                 SimpleImputer())]))])</pre></div></div></div><div class=\"sk-parallel\"><div class=\"sk-parallel-item\"><div class=\"sk-item\"><div class=\"sk-label-container\"><div class=\"sk-label sk-toggleable\"><label>owner</label></div></div><div class=\"sk-serial\"><div class=\"sk-item\"><div class=\"sk-serial\"><div class=\"sk-item\"><div class=\"sk-estimator sk-toggleable\"><input class=\"sk-toggleable__control sk-hidden--visually\" id=\"862cd27d-4955-4f2d-b38a-846fb0bcad04\" type=\"checkbox\" ><label class=\"sk-toggleable__label\" for=\"862cd27d-4955-4f2d-b38a-846fb0bcad04\">ColumnSelectTransformer</label><div class=\"sk-toggleable__content\"><pre>ColumnSelectTransformer(columns=['OWNERSHIP'])</pre></div></div></div><div class=\"sk-item\"><div class=\"sk-estimator sk-toggleable\"><input class=\"sk-toggleable__control sk-hidden--visually\" id=\"f93c4678-d71e-4a6c-85c3-aefdcbc31a88\" type=\"checkbox\" ><label class=\"sk-toggleable__label\" for=\"f93c4678-d71e-4a6c-85c3-aefdcbc31a88\">OneHotEncoder</label><div class=\"sk-toggleable__content\"><pre>OneHotEncoder(handle_unknown='ignore')</pre></div></div></div><div class=\"sk-item\"><div class=\"sk-estimator sk-toggleable\"><input class=\"sk-toggleable__control sk-hidden--visually\" id=\"a88b9598-ce2f-4a92-8288-4646f7c23263\" type=\"checkbox\" ><label class=\"sk-toggleable__label\" for=\"a88b9598-ce2f-4a92-8288-4646f7c23263\">SimpleImputer</label><div class=\"sk-toggleable__content\"><pre>SimpleImputer()</pre></div></div></div></div></div></div></div></div><div class=\"sk-parallel-item\"><div class=\"sk-item\"><div class=\"sk-label-container\"><div class=\"sk-label sk-toggleable\"><label>cert</label></div></div><div class=\"sk-serial\"><div class=\"sk-item\"><div class=\"sk-serial\"><div class=\"sk-item\"><div class=\"sk-estimator sk-toggleable\"><input class=\"sk-toggleable__control sk-hidden--visually\" id=\"c49c2fd3-4c6f-4280-af46-96cad4067ddf\" type=\"checkbox\" ><label class=\"sk-toggleable__label\" for=\"c49c2fd3-4c6f-4280-af46-96cad4067ddf\">ColumnSelectTransformer</label><div class=\"sk-toggleable__content\"><pre>ColumnSelectTransformer(columns=['CERTIFICATION'])</pre></div></div></div><div class=\"sk-item\"><div class=\"sk-estimator sk-toggleable\"><input class=\"sk-toggleable__control sk-hidden--visually\" id=\"2132b6cd-ea14-4196-aa54-88d881df1607\" type=\"checkbox\" ><label class=\"sk-toggleable__label\" for=\"2132b6cd-ea14-4196-aa54-88d881df1607\">OneHotEncoder</label><div class=\"sk-toggleable__content\"><pre>OneHotEncoder(handle_unknown='ignore')</pre></div></div></div><div class=\"sk-item\"><div class=\"sk-estimator sk-toggleable\"><input class=\"sk-toggleable__control sk-hidden--visually\" id=\"7bcf8ed6-aa06-4882-b28d-8ec7dedb1e1a\" type=\"checkbox\" ><label class=\"sk-toggleable__label\" for=\"7bcf8ed6-aa06-4882-b28d-8ec7dedb1e1a\">SimpleImputer</label><div class=\"sk-toggleable__content\"><pre>SimpleImputer()</pre></div></div></div></div></div></div></div></div></div></div><div class=\"sk-item\"><div class=\"sk-estimator sk-toggleable\"><input class=\"sk-toggleable__control sk-hidden--visually\" id=\"5fc3baa2-f677-4373-91e9-a74252ba82ad\" type=\"checkbox\" ><label class=\"sk-toggleable__label\" for=\"5fc3baa2-f677-4373-91e9-a74252ba82ad\">DecisionTreeClassifier</label><div class=\"sk-toggleable__content\"><pre>DecisionTreeClassifier(class_weight={False: 0.7226383687057845,\n",
              "                                     True: 1.6228971962616823},\n",
              "                       max_depth=5, random_state=42)</pre></div></div></div></div></div></div></div>"
            ],
            "text/plain": [
              "Pipeline(steps=[('categorical',\n",
              "                 FeatureUnion(transformer_list=[('owner',\n",
              "                                                 Pipeline(steps=[('cst',\n",
              "                                                                  ColumnSelectTransformer(columns=['OWNERSHIP'])),\n",
              "                                                                 ('one-hot',\n",
              "                                                                  OneHotEncoder(handle_unknown='ignore')),\n",
              "                                                                 ('simpleimputer',\n",
              "                                                                  SimpleImputer())])),\n",
              "                                                ('cert',\n",
              "                                                 Pipeline(steps=[('cst',\n",
              "                                                                  ColumnSelectTransformer(columns=['CERTIFICATION'])),\n",
              "                                                                 ('one-hot',\n",
              "                                                                  OneHotEncoder(handle_unknown='ignore')),\n",
              "                                                                 ('simpleimputer',\n",
              "                                                                  SimpleImputer())]))])),\n",
              "                ('clf',\n",
              "                 DecisionTreeClassifier(class_weight={False: 0.7226383687057845,\n",
              "                                                      True: 1.6228971962616823},\n",
              "                                        max_depth=5, random_state=42))])"
            ]
          },
          "execution_count": 25,
          "metadata": {},
          "output_type": "execute_result"
        }
      ],
      "source": [
        "categorical_features_model.fit(data, fine_counts > 0)"
      ]
    },
    {
      "cell_type": "code",
      "execution_count": null,
      "metadata": {
        "scrolled": true,
        "id": "CF9d970x0WiP",
        "outputId": "d54c94a4-0122-43dc-848a-1351f38f3a13"
      },
      "outputs": [
        {
          "name": "stdout",
          "output_type": "stream",
          "text": [
            "==================\n",
            "Your score: 1.062\n",
            "==================\n"
          ]
        }
      ],
      "source": [
        "grader.score.ml__categorical_features(positive_probability(categorical_features_model))"
      ]
    },
    {
      "cell_type": "markdown",
      "metadata": {
        "id": "ubzQO_rt0WiQ"
      },
      "source": [
        "## Question 4: business_model"
      ]
    },
    {
      "cell_type": "markdown",
      "metadata": {
        "id": "-MQkT75H0WiR"
      },
      "source": [
        "Finally, we'll combine `simple_features` and `categorical_features` in a `FeatureUnion`, followed by an estimator in a `Pipeline`. You may want to optimize the hyperparameters of your estimator using cross-validation or try engineering new features (e.g. see [PolynomialFeatures](https://scikit-learn.org/stable/modules/generated/sklearn.preprocessing.PolynomialFeatures.html)). When you've assembled and trained your model, pass the `predict_proba` method to the grader."
      ]
    },
    {
      "cell_type": "code",
      "execution_count": null,
      "metadata": {
        "id": "SUKLQnYO0WiR"
      },
      "outputs": [],
      "source": [
        "numerical = c_selector(dtype_include=np.number)\n",
        "categorical = c_selector(dtype_include=bool)\n",
        "num_pipe = Pipeline([('scaler', StandardScaler()), ('simpleimputer', SimpleImputer(strategy='mean'))])\n",
        "ct = make_column_transformer((num_pipe, numerical), (OneHotEncoder(handle_unknown = 'ignore'), categorical), remainder = 'passthrough')\n",
        "simple_pipe = Pipeline([('simple', simple_features), ('ct', ct)])\n"
      ]
    },
    {
      "cell_type": "code",
      "execution_count": null,
      "metadata": {
        "scrolled": false,
        "id": "q9TQZNjl0WiS"
      },
      "outputs": [],
      "source": [
        "business_features = FeatureUnion([\n",
        "    ('simple', simple_pipe),\n",
        "    ('categorical', categorical_features)\n",
        "])"
      ]
    },
    {
      "cell_type": "code",
      "execution_count": null,
      "metadata": {
        "id": "jppQ6eQm0WiT"
      },
      "outputs": [],
      "source": [
        "from sklearn.ensemble import ExtraTreesClassifier, AdaBoostClassifier\n",
        "business_model = Pipeline([\n",
        "    ('features', business_features),\n",
        "    # add your estimator here\n",
        "    ('clf', AdaBoostClassifier(n_estimators=50, random_state=42, base_estimator=DecisionTreeClassifier(random_state=42, max_depth=1, class_weight = class_weights)))\n",
        "])"
      ]
    },
    {
      "cell_type": "code",
      "execution_count": null,
      "metadata": {
        "scrolled": true,
        "id": "RHG3P9Et0WiT",
        "outputId": "109f7230-e97c-4b68-b421-1b1cf5034963"
      },
      "outputs": [
        {
          "data": {
            "text/html": [
              "<style>div.sk-top-container {color: black;background-color: white;}div.sk-toggleable {background-color: white;}label.sk-toggleable__label {cursor: pointer;display: block;width: 100%;margin-bottom: 0;padding: 0.2em 0.3em;box-sizing: border-box;text-align: center;}div.sk-toggleable__content {max-height: 0;max-width: 0;overflow: hidden;text-align: left;background-color: #f0f8ff;}div.sk-toggleable__content pre {margin: 0.2em;color: black;border-radius: 0.25em;background-color: #f0f8ff;}input.sk-toggleable__control:checked~div.sk-toggleable__content {max-height: 200px;max-width: 100%;overflow: auto;}div.sk-estimator input.sk-toggleable__control:checked~label.sk-toggleable__label {background-color: #d4ebff;}div.sk-label input.sk-toggleable__control:checked~label.sk-toggleable__label {background-color: #d4ebff;}input.sk-hidden--visually {border: 0;clip: rect(1px 1px 1px 1px);clip: rect(1px, 1px, 1px, 1px);height: 1px;margin: -1px;overflow: hidden;padding: 0;position: absolute;width: 1px;}div.sk-estimator {font-family: monospace;background-color: #f0f8ff;margin: 0.25em 0.25em;border: 1px dotted black;border-radius: 0.25em;box-sizing: border-box;}div.sk-estimator:hover {background-color: #d4ebff;}div.sk-parallel-item::after {content: \"\";width: 100%;border-bottom: 1px solid gray;flex-grow: 1;}div.sk-label:hover label.sk-toggleable__label {background-color: #d4ebff;}div.sk-serial::before {content: \"\";position: absolute;border-left: 1px solid gray;box-sizing: border-box;top: 2em;bottom: 0;left: 50%;}div.sk-serial {display: flex;flex-direction: column;align-items: center;background-color: white;}div.sk-item {z-index: 1;}div.sk-parallel {display: flex;align-items: stretch;justify-content: center;background-color: white;}div.sk-parallel-item {display: flex;flex-direction: column;position: relative;background-color: white;}div.sk-parallel-item:first-child::after {align-self: flex-end;width: 50%;}div.sk-parallel-item:last-child::after {align-self: flex-start;width: 50%;}div.sk-parallel-item:only-child::after {width: 0;}div.sk-dashed-wrapped {border: 1px dashed gray;margin: 0.2em;box-sizing: border-box;padding-bottom: 0.1em;background-color: white;position: relative;}div.sk-label label {font-family: monospace;font-weight: bold;background-color: white;display: inline-block;line-height: 1.2em;}div.sk-label-container {position: relative;z-index: 2;text-align: center;}div.sk-container {display: inline-block;position: relative;}</style><div class=\"sk-top-container\"><div class=\"sk-container\"><div class=\"sk-item sk-dashed-wrapped\"><div class=\"sk-label-container\"><div class=\"sk-label sk-toggleable\"><input class=\"sk-toggleable__control sk-hidden--visually\" id=\"8519ec02-32d5-4921-a01d-7e46d05ea4b4\" type=\"checkbox\" ><label class=\"sk-toggleable__label\" for=\"8519ec02-32d5-4921-a01d-7e46d05ea4b4\">Pipeline</label><div class=\"sk-toggleable__content\"><pre>Pipeline(steps=[('features',\n",
              "                 FeatureUnion(transformer_list=[('simple',\n",
              "                                                 Pipeline(steps=[('simple',\n",
              "                                                                  Pipeline(steps=[('cst',\n",
              "                                                                                   ColumnSelectTransformer(columns=['BEDCERT',\n",
              "                                                                                                                    'RESTOT',\n",
              "                                                                                                                    'INHOSP',\n",
              "                                                                                                                    'CCRC_FACIL',\n",
              "                                                                                                                    'SFF',\n",
              "                                                                                                                    'CHOW_LAST_12MOS',\n",
              "                                                                                                                    'SPRINKLER_STATUS',\n",
              "                                                                                                                    'EXP_TOTAL',\n",
              "                                                                                                                    'ADJ_TOTAL']))])),\n",
              "                                                                 ('ct',\n",
              "                                                                  ColumnTransformer(remainder='passthrough',\n",
              "                                                                                    transformers=[('pipeline',\n",
              "                                                                                                   Pipeline(st...\n",
              "                                                                                ('cert',\n",
              "                                                                                 Pipeline(steps=[('cst',\n",
              "                                                                                                  ColumnSelectTransformer(columns=['CERTIFICATION'])),\n",
              "                                                                                                 ('one-hot',\n",
              "                                                                                                  OneHotEncoder(handle_unknown='ignore')),\n",
              "                                                                                                 ('simpleimputer',\n",
              "                                                                                                  SimpleImputer())]))]))])),\n",
              "                ('clf',\n",
              "                 AdaBoostClassifier(base_estimator=DecisionTreeClassifier(class_weight={False: 0.7226383687057845,\n",
              "                                                                                        True: 1.6228971962616823},\n",
              "                                                                          max_depth=1,\n",
              "                                                                          random_state=42),\n",
              "                                    random_state=42))])</pre></div></div></div><div class=\"sk-serial\"><div class=\"sk-item sk-dashed-wrapped\"><div class=\"sk-label-container\"><div class=\"sk-label sk-toggleable\"><input class=\"sk-toggleable__control sk-hidden--visually\" id=\"1833fb8c-28b0-42e5-be88-652b0c1feb45\" type=\"checkbox\" ><label class=\"sk-toggleable__label\" for=\"1833fb8c-28b0-42e5-be88-652b0c1feb45\">features: FeatureUnion</label><div class=\"sk-toggleable__content\"><pre>FeatureUnion(transformer_list=[('simple',\n",
              "                                Pipeline(steps=[('simple',\n",
              "                                                 Pipeline(steps=[('cst',\n",
              "                                                                  ColumnSelectTransformer(columns=['BEDCERT',\n",
              "                                                                                                   'RESTOT',\n",
              "                                                                                                   'INHOSP',\n",
              "                                                                                                   'CCRC_FACIL',\n",
              "                                                                                                   'SFF',\n",
              "                                                                                                   'CHOW_LAST_12MOS',\n",
              "                                                                                                   'SPRINKLER_STATUS',\n",
              "                                                                                                   'EXP_TOTAL',\n",
              "                                                                                                   'ADJ_TOTAL']))])),\n",
              "                                                ('ct',\n",
              "                                                 ColumnTransformer(remainder='passthrough',\n",
              "                                                                   transformers=[('pipeline',\n",
              "                                                                                  Pipeline(steps=[('scaler',\n",
              "                                                                                                   StandardScale...\n",
              "                                FeatureUnion(transformer_list=[('owner',\n",
              "                                                                Pipeline(steps=[('cst',\n",
              "                                                                                 ColumnSelectTransformer(columns=['OWNERSHIP'])),\n",
              "                                                                                ('one-hot',\n",
              "                                                                                 OneHotEncoder(handle_unknown='ignore')),\n",
              "                                                                                ('simpleimputer',\n",
              "                                                                                 SimpleImputer())])),\n",
              "                                                               ('cert',\n",
              "                                                                Pipeline(steps=[('cst',\n",
              "                                                                                 ColumnSelectTransformer(columns=['CERTIFICATION'])),\n",
              "                                                                                ('one-hot',\n",
              "                                                                                 OneHotEncoder(handle_unknown='ignore')),\n",
              "                                                                                ('simpleimputer',\n",
              "                                                                                 SimpleImputer())]))]))])</pre></div></div></div><div class=\"sk-parallel\"><div class=\"sk-parallel-item\"><div class=\"sk-item\"><div class=\"sk-label-container\"><div class=\"sk-label sk-toggleable\"><label>simple</label></div></div><div class=\"sk-serial\"><div class=\"sk-item\"><div class=\"sk-serial\"><div class=\"sk-item\"><div class=\"sk-label-container\"><div class=\"sk-label sk-toggleable\"><input class=\"sk-toggleable__control sk-hidden--visually\" id=\"c1d03418-f667-48f2-b164-e731742ad1eb\" type=\"checkbox\" ><label class=\"sk-toggleable__label\" for=\"c1d03418-f667-48f2-b164-e731742ad1eb\">simple: Pipeline</label><div class=\"sk-toggleable__content\"><pre>Pipeline(steps=[('cst',\n",
              "                 ColumnSelectTransformer(columns=['BEDCERT', 'RESTOT', 'INHOSP',\n",
              "                                                  'CCRC_FACIL', 'SFF',\n",
              "                                                  'CHOW_LAST_12MOS',\n",
              "                                                  'SPRINKLER_STATUS',\n",
              "                                                  'EXP_TOTAL', 'ADJ_TOTAL']))])</pre></div></div></div><div class=\"sk-serial\"><div class=\"sk-item\"><div class=\"sk-estimator sk-toggleable\"><input class=\"sk-toggleable__control sk-hidden--visually\" id=\"4ee64893-457e-41cd-951a-fd79ec8324d2\" type=\"checkbox\" ><label class=\"sk-toggleable__label\" for=\"4ee64893-457e-41cd-951a-fd79ec8324d2\">ColumnSelectTransformer</label><div class=\"sk-toggleable__content\"><pre>ColumnSelectTransformer(columns=['BEDCERT', 'RESTOT', 'INHOSP', 'CCRC_FACIL',\n",
              "                                 'SFF', 'CHOW_LAST_12MOS', 'SPRINKLER_STATUS',\n",
              "                                 'EXP_TOTAL', 'ADJ_TOTAL'])</pre></div></div></div></div></div><div class=\"sk-item sk-dashed-wrapped\"><div class=\"sk-label-container\"><div class=\"sk-label sk-toggleable\"><input class=\"sk-toggleable__control sk-hidden--visually\" id=\"32c93bf6-99b8-4706-a6db-edf9247777f9\" type=\"checkbox\" ><label class=\"sk-toggleable__label\" for=\"32c93bf6-99b8-4706-a6db-edf9247777f9\">ct: ColumnTransformer</label><div class=\"sk-toggleable__content\"><pre>ColumnTransformer(remainder='passthrough',\n",
              "                  transformers=[('pipeline',\n",
              "                                 Pipeline(steps=[('scaler', StandardScaler()),\n",
              "                                                 ('simpleimputer',\n",
              "                                                  SimpleImputer())]),\n",
              "                                 <sklearn.compose._column_transformer.make_column_selector object at 0x7f85c27f52e0>),\n",
              "                                ('onehotencoder',\n",
              "                                 OneHotEncoder(handle_unknown='ignore'),\n",
              "                                 <sklearn.compose._column_transformer.make_column_selector object at 0x7f85c27f5250>)])</pre></div></div></div><div class=\"sk-parallel\"><div class=\"sk-parallel-item\"><div class=\"sk-item\"><div class=\"sk-label-container\"><div class=\"sk-label sk-toggleable\"><input class=\"sk-toggleable__control sk-hidden--visually\" id=\"44926055-f406-45d2-b04e-d87e207c8cad\" type=\"checkbox\" ><label class=\"sk-toggleable__label\" for=\"44926055-f406-45d2-b04e-d87e207c8cad\">pipeline</label><div class=\"sk-toggleable__content\"><pre><sklearn.compose._column_transformer.make_column_selector object at 0x7f85c27f52e0></pre></div></div></div><div class=\"sk-serial\"><div class=\"sk-item\"><div class=\"sk-serial\"><div class=\"sk-item\"><div class=\"sk-estimator sk-toggleable\"><input class=\"sk-toggleable__control sk-hidden--visually\" id=\"6a648463-4699-452e-9ba4-24f654675e05\" type=\"checkbox\" ><label class=\"sk-toggleable__label\" for=\"6a648463-4699-452e-9ba4-24f654675e05\">StandardScaler</label><div class=\"sk-toggleable__content\"><pre>StandardScaler()</pre></div></div></div><div class=\"sk-item\"><div class=\"sk-estimator sk-toggleable\"><input class=\"sk-toggleable__control sk-hidden--visually\" id=\"37df368e-2528-4e77-970b-b612cf281641\" type=\"checkbox\" ><label class=\"sk-toggleable__label\" for=\"37df368e-2528-4e77-970b-b612cf281641\">SimpleImputer</label><div class=\"sk-toggleable__content\"><pre>SimpleImputer()</pre></div></div></div></div></div></div></div></div><div class=\"sk-parallel-item\"><div class=\"sk-item\"><div class=\"sk-label-container\"><div class=\"sk-label sk-toggleable\"><input class=\"sk-toggleable__control sk-hidden--visually\" id=\"f4bad820-7e8e-432a-9dd5-db7089fda427\" type=\"checkbox\" ><label class=\"sk-toggleable__label\" for=\"f4bad820-7e8e-432a-9dd5-db7089fda427\">onehotencoder</label><div class=\"sk-toggleable__content\"><pre><sklearn.compose._column_transformer.make_column_selector object at 0x7f85c27f5250></pre></div></div></div><div class=\"sk-serial\"><div class=\"sk-item\"><div class=\"sk-estimator sk-toggleable\"><input class=\"sk-toggleable__control sk-hidden--visually\" id=\"cffeb251-f3bb-4fe3-960b-8908fc092a3a\" type=\"checkbox\" ><label class=\"sk-toggleable__label\" for=\"cffeb251-f3bb-4fe3-960b-8908fc092a3a\">OneHotEncoder</label><div class=\"sk-toggleable__content\"><pre>OneHotEncoder(handle_unknown='ignore')</pre></div></div></div></div></div></div></div></div></div></div></div></div></div><div class=\"sk-parallel-item\"><div class=\"sk-item\"><div class=\"sk-label-container\"><div class=\"sk-label sk-toggleable\"><label>categorical</label></div></div><div class=\"sk-serial\"><div class=\"sk-item sk-dashed-wrapped\"><div class=\"sk-parallel\"><div class=\"sk-parallel-item\"><div class=\"sk-item\"><div class=\"sk-label-container\"><div class=\"sk-label sk-toggleable\"><label>owner</label></div></div><div class=\"sk-serial\"><div class=\"sk-item\"><div class=\"sk-serial\"><div class=\"sk-item\"><div class=\"sk-estimator sk-toggleable\"><input class=\"sk-toggleable__control sk-hidden--visually\" id=\"2d90090c-8b2e-4684-ad90-39a6249ef0d0\" type=\"checkbox\" ><label class=\"sk-toggleable__label\" for=\"2d90090c-8b2e-4684-ad90-39a6249ef0d0\">ColumnSelectTransformer</label><div class=\"sk-toggleable__content\"><pre>ColumnSelectTransformer(columns=['OWNERSHIP'])</pre></div></div></div><div class=\"sk-item\"><div class=\"sk-estimator sk-toggleable\"><input class=\"sk-toggleable__control sk-hidden--visually\" id=\"f6386bc4-e5a6-4e1e-9836-0f4616487584\" type=\"checkbox\" ><label class=\"sk-toggleable__label\" for=\"f6386bc4-e5a6-4e1e-9836-0f4616487584\">OneHotEncoder</label><div class=\"sk-toggleable__content\"><pre>OneHotEncoder(handle_unknown='ignore')</pre></div></div></div><div class=\"sk-item\"><div class=\"sk-estimator sk-toggleable\"><input class=\"sk-toggleable__control sk-hidden--visually\" id=\"197d09fe-3cf1-4fba-97b2-79833795eaa1\" type=\"checkbox\" ><label class=\"sk-toggleable__label\" for=\"197d09fe-3cf1-4fba-97b2-79833795eaa1\">SimpleImputer</label><div class=\"sk-toggleable__content\"><pre>SimpleImputer()</pre></div></div></div></div></div></div></div></div><div class=\"sk-parallel-item\"><div class=\"sk-item\"><div class=\"sk-label-container\"><div class=\"sk-label sk-toggleable\"><label>cert</label></div></div><div class=\"sk-serial\"><div class=\"sk-item\"><div class=\"sk-serial\"><div class=\"sk-item\"><div class=\"sk-estimator sk-toggleable\"><input class=\"sk-toggleable__control sk-hidden--visually\" id=\"cb388024-9e2e-4d68-bee1-ecb3dbd18468\" type=\"checkbox\" ><label class=\"sk-toggleable__label\" for=\"cb388024-9e2e-4d68-bee1-ecb3dbd18468\">ColumnSelectTransformer</label><div class=\"sk-toggleable__content\"><pre>ColumnSelectTransformer(columns=['CERTIFICATION'])</pre></div></div></div><div class=\"sk-item\"><div class=\"sk-estimator sk-toggleable\"><input class=\"sk-toggleable__control sk-hidden--visually\" id=\"fe29d8f5-3ae4-41a7-94b9-de10c8cfbff0\" type=\"checkbox\" ><label class=\"sk-toggleable__label\" for=\"fe29d8f5-3ae4-41a7-94b9-de10c8cfbff0\">OneHotEncoder</label><div class=\"sk-toggleable__content\"><pre>OneHotEncoder(handle_unknown='ignore')</pre></div></div></div><div class=\"sk-item\"><div class=\"sk-estimator sk-toggleable\"><input class=\"sk-toggleable__control sk-hidden--visually\" id=\"7333dc25-173e-453b-93af-9af56bd28a5a\" type=\"checkbox\" ><label class=\"sk-toggleable__label\" for=\"7333dc25-173e-453b-93af-9af56bd28a5a\">SimpleImputer</label><div class=\"sk-toggleable__content\"><pre>SimpleImputer()</pre></div></div></div></div></div></div></div></div></div></div></div></div></div></div></div><div class=\"sk-item sk-dashed-wrapped\"><div class=\"sk-label-container\"><div class=\"sk-label sk-toggleable\"><input class=\"sk-toggleable__control sk-hidden--visually\" id=\"3bc02007-1010-499f-9202-b778d18bd7b2\" type=\"checkbox\" ><label class=\"sk-toggleable__label\" for=\"3bc02007-1010-499f-9202-b778d18bd7b2\">clf: AdaBoostClassifier</label><div class=\"sk-toggleable__content\"><pre>AdaBoostClassifier(base_estimator=DecisionTreeClassifier(class_weight={False: 0.7226383687057845,\n",
              "                                                                       True: 1.6228971962616823},\n",
              "                                                         max_depth=1,\n",
              "                                                         random_state=42),\n",
              "                   random_state=42)</pre></div></div></div><div class=\"sk-parallel\"><div class=\"sk-parallel-item\"><div class=\"sk-item\"><div class=\"sk-serial\"><div class=\"sk-item\"><div class=\"sk-estimator sk-toggleable\"><input class=\"sk-toggleable__control sk-hidden--visually\" id=\"20a59b4b-2b66-4f4e-be35-a65a284d92c5\" type=\"checkbox\" ><label class=\"sk-toggleable__label\" for=\"20a59b4b-2b66-4f4e-be35-a65a284d92c5\">DecisionTreeClassifier</label><div class=\"sk-toggleable__content\"><pre>DecisionTreeClassifier(class_weight={False: 0.7226383687057845,\n",
              "                                     True: 1.6228971962616823},\n",
              "                       max_depth=1, random_state=42)</pre></div></div></div></div></div></div></div></div></div></div></div></div>"
            ],
            "text/plain": [
              "Pipeline(steps=[('features',\n",
              "                 FeatureUnion(transformer_list=[('simple',\n",
              "                                                 Pipeline(steps=[('simple',\n",
              "                                                                  Pipeline(steps=[('cst',\n",
              "                                                                                   ColumnSelectTransformer(columns=['BEDCERT',\n",
              "                                                                                                                    'RESTOT',\n",
              "                                                                                                                    'INHOSP',\n",
              "                                                                                                                    'CCRC_FACIL',\n",
              "                                                                                                                    'SFF',\n",
              "                                                                                                                    'CHOW_LAST_12MOS',\n",
              "                                                                                                                    'SPRINKLER_STATUS',\n",
              "                                                                                                                    'EXP_TOTAL',\n",
              "                                                                                                                    'ADJ_TOTAL']))])),\n",
              "                                                                 ('ct',\n",
              "                                                                  ColumnTransformer(remainder='passthrough',\n",
              "                                                                                    transformers=[('pipeline',\n",
              "                                                                                                   Pipeline(st...\n",
              "                                                                                ('cert',\n",
              "                                                                                 Pipeline(steps=[('cst',\n",
              "                                                                                                  ColumnSelectTransformer(columns=['CERTIFICATION'])),\n",
              "                                                                                                 ('one-hot',\n",
              "                                                                                                  OneHotEncoder(handle_unknown='ignore')),\n",
              "                                                                                                 ('simpleimputer',\n",
              "                                                                                                  SimpleImputer())]))]))])),\n",
              "                ('clf',\n",
              "                 AdaBoostClassifier(base_estimator=DecisionTreeClassifier(class_weight={False: 0.7226383687057845,\n",
              "                                                                                        True: 1.6228971962616823},\n",
              "                                                                          max_depth=1,\n",
              "                                                                          random_state=42),\n",
              "                                    random_state=42))])"
            ]
          },
          "execution_count": 64,
          "metadata": {},
          "output_type": "execute_result"
        }
      ],
      "source": [
        "business_model.fit(data, fine_counts > 0)"
      ]
    },
    {
      "cell_type": "code",
      "execution_count": null,
      "metadata": {
        "scrolled": true,
        "id": "22EcExfr0WiW",
        "outputId": "1398b9e9-00d6-43fe-a94b-67fe8d8b281f"
      },
      "outputs": [
        {
          "name": "stdout",
          "output_type": "stream",
          "text": [
            "==================\n",
            "Your score: 1.025\n",
            "==================\n"
          ]
        }
      ],
      "source": [
        "grader.score.ml__business_model(positive_probability(business_model))"
      ]
    },
    {
      "cell_type": "markdown",
      "metadata": {
        "id": "TnlTNyoF0WiX"
      },
      "source": [
        "## Question 5: survey_results"
      ]
    },
    {
      "cell_type": "markdown",
      "metadata": {
        "id": "QaJSpTrX0WiX"
      },
      "source": [
        "Surveys reveal safety and health deficiencies at nursing homes that may indicate risk for incidents (and penalties). CMS routinely makes surveys of nursing homes. Build a model that combines the `business_features` of each facility with its cycle 1 survey results, as well as the time between the cycle 1 and cycle 2 survey to predict the cycle 2 total score.\n",
        "\n",
        "First, let's create a transformer to calculate the difference in time between the cycle 1 and cycle 2 surveys."
      ]
    },
    {
      "cell_type": "code",
      "execution_count": null,
      "metadata": {
        "id": "DMDGEp1u0WiY",
        "outputId": "2af59828-4735-4cf5-90c6-b0b047f8f7b1"
      },
      "outputs": [
        {
          "name": "stdout",
          "output_type": "stream",
          "text": [
            "<class 'pandas.core.frame.DataFrame'>\n",
            "RangeIndex: 13892 entries, 0 to 13891\n",
            "Data columns (total 1 columns):\n",
            " #   Column               Non-Null Count  Dtype \n",
            "---  ------               --------------  ----- \n",
            " 0   CYCLE_1_SURVEY_DATE  13892 non-null  object\n",
            "dtypes: object(1)\n",
            "memory usage: 108.7+ KB\n"
          ]
        }
      ],
      "source": [
        "data[['CYCLE_1_SURVEY_DATE']].info()"
      ]
    },
    {
      "cell_type": "code",
      "execution_count": null,
      "metadata": {
        "id": "t6em1JZR0WiZ"
      },
      "outputs": [],
      "source": [
        "class TimedeltaTransformer(BaseEstimator, TransformerMixin):\n",
        "    def __init__(self, t1_col, t2_col):\n",
        "        self.t1_col = t1_col\n",
        "        self.t2_col = t2_col\n",
        "\n",
        "    def fit(self, X, y=None):\n",
        "        return self\n",
        "\n",
        "    def transform(self, X):\n",
        "        X = pd.DataFrame(X)\n",
        "        Xr = X.copy() # copy() to prevent SettingWithCopyWarning\n",
        "        Xr['date1'] = pd.to_datetime(Xr[self.t1_col]) \n",
        "        Xr['date2'] = pd.to_datetime(Xr[self.t2_col])\n",
        "        \n",
        "        return Xr[['date1','date2']].apply(lambda x: (x[0] - x[1]).days, axis=1).to_frame(name='TIMEDELTA')"
      ]
    },
    {
      "cell_type": "code",
      "execution_count": null,
      "metadata": {
        "id": "eRdTFy8u0WiZ"
      },
      "outputs": [],
      "source": [
        "cycle_1_date = 'CYCLE_1_SURVEY_DATE'\n",
        "cycle_2_date = 'CYCLE_2_SURVEY_DATE'\n",
        "time_feature = TimedeltaTransformer(cycle_1_date, cycle_2_date)"
      ]
    },
    {
      "cell_type": "code",
      "execution_count": null,
      "metadata": {
        "id": "dAQ7JDDl0Wia",
        "outputId": "631c688b-331f-4afa-c258-d6e98fded385"
      },
      "outputs": [
        {
          "data": {
            "text/plain": [
              "0        2017-04-06\n",
              "1        2017-03-16\n",
              "2        2016-10-20\n",
              "3        2017-03-09\n",
              "4        2017-06-01\n",
              "            ...    \n",
              "13887    2017-08-10\n",
              "13888    2017-06-22\n",
              "13889    2017-09-28\n",
              "13890    2017-11-09\n",
              "13891    2017-05-26\n",
              "Name: CYCLE_1_SURVEY_DATE, Length: 13892, dtype: object"
            ]
          },
          "execution_count": 204,
          "metadata": {},
          "output_type": "execute_result"
        }
      ],
      "source": [
        "data[cycle_1_date]"
      ]
    },
    {
      "cell_type": "markdown",
      "metadata": {
        "id": "8qRPYpil0Wib"
      },
      "source": [
        "In the cell below we'll collect the cycle 1 survey features."
      ]
    },
    {
      "cell_type": "code",
      "execution_count": null,
      "metadata": {
        "id": "YPEaj6kf0Wib"
      },
      "outputs": [],
      "source": [
        "cycle_1_cols = ['CYCLE_1_DEFS', 'CYCLE_1_NFROMDEFS', 'CYCLE_1_NFROMCOMP',\n",
        "                'CYCLE_1_DEFS_SCORE', 'CYCLE_1_NUMREVIS',\n",
        "                'CYCLE_1_REVISIT_SCORE', 'CYCLE_1_TOTAL_SCORE']\n",
        "\n",
        "cycle_1_features = Pipeline([\n",
        "    ('cst', ColumnSelectTransformer(cycle_1_cols)),\n",
        "    ('scaler', StandardScaler())\n",
        "])"
      ]
    },
    {
      "cell_type": "code",
      "execution_count": null,
      "metadata": {
        "id": "BCiH7Rhh0Wic"
      },
      "outputs": [],
      "source": [
        "from sklearn.ensemble import RandomForestRegressor\n",
        "\n",
        "survey_model = Pipeline([\n",
        "    ('features', FeatureUnion([\n",
        "        ('business', business_features),\n",
        "        ('survey', cycle_1_features),\n",
        "        ('time', time_feature)\n",
        "    ])),\n",
        "    # add your estimator here\n",
        "    ('reg', RandomForestRegressor(random_state=42, max_depth=6, min_samples_split=9, n_estimators=80, max_features=0.1, min_samples_leaf=1)),\n",
        "])"
      ]
    },
    {
      "cell_type": "code",
      "execution_count": null,
      "metadata": {
        "scrolled": false,
        "id": "haDcr3Ac0Wie",
        "outputId": "d00c0449-8d9f-45dd-befa-e1ef87521b81"
      },
      "outputs": [
        {
          "data": {
            "text/html": [
              "<style>div.sk-top-container {color: black;background-color: white;}div.sk-toggleable {background-color: white;}label.sk-toggleable__label {cursor: pointer;display: block;width: 100%;margin-bottom: 0;padding: 0.2em 0.3em;box-sizing: border-box;text-align: center;}div.sk-toggleable__content {max-height: 0;max-width: 0;overflow: hidden;text-align: left;background-color: #f0f8ff;}div.sk-toggleable__content pre {margin: 0.2em;color: black;border-radius: 0.25em;background-color: #f0f8ff;}input.sk-toggleable__control:checked~div.sk-toggleable__content {max-height: 200px;max-width: 100%;overflow: auto;}div.sk-estimator input.sk-toggleable__control:checked~label.sk-toggleable__label {background-color: #d4ebff;}div.sk-label input.sk-toggleable__control:checked~label.sk-toggleable__label {background-color: #d4ebff;}input.sk-hidden--visually {border: 0;clip: rect(1px 1px 1px 1px);clip: rect(1px, 1px, 1px, 1px);height: 1px;margin: -1px;overflow: hidden;padding: 0;position: absolute;width: 1px;}div.sk-estimator {font-family: monospace;background-color: #f0f8ff;margin: 0.25em 0.25em;border: 1px dotted black;border-radius: 0.25em;box-sizing: border-box;}div.sk-estimator:hover {background-color: #d4ebff;}div.sk-parallel-item::after {content: \"\";width: 100%;border-bottom: 1px solid gray;flex-grow: 1;}div.sk-label:hover label.sk-toggleable__label {background-color: #d4ebff;}div.sk-serial::before {content: \"\";position: absolute;border-left: 1px solid gray;box-sizing: border-box;top: 2em;bottom: 0;left: 50%;}div.sk-serial {display: flex;flex-direction: column;align-items: center;background-color: white;}div.sk-item {z-index: 1;}div.sk-parallel {display: flex;align-items: stretch;justify-content: center;background-color: white;}div.sk-parallel-item {display: flex;flex-direction: column;position: relative;background-color: white;}div.sk-parallel-item:first-child::after {align-self: flex-end;width: 50%;}div.sk-parallel-item:last-child::after {align-self: flex-start;width: 50%;}div.sk-parallel-item:only-child::after {width: 0;}div.sk-dashed-wrapped {border: 1px dashed gray;margin: 0.2em;box-sizing: border-box;padding-bottom: 0.1em;background-color: white;position: relative;}div.sk-label label {font-family: monospace;font-weight: bold;background-color: white;display: inline-block;line-height: 1.2em;}div.sk-label-container {position: relative;z-index: 2;text-align: center;}div.sk-container {display: inline-block;position: relative;}</style><div class=\"sk-top-container\"><div class=\"sk-container\"><div class=\"sk-item sk-dashed-wrapped\"><div class=\"sk-label-container\"><div class=\"sk-label sk-toggleable\"><input class=\"sk-toggleable__control sk-hidden--visually\" id=\"6b678573-2bb8-4b6c-9d92-6398c6cef9b9\" type=\"checkbox\" ><label class=\"sk-toggleable__label\" for=\"6b678573-2bb8-4b6c-9d92-6398c6cef9b9\">Pipeline</label><div class=\"sk-toggleable__content\"><pre>Pipeline(steps=[('features',\n",
              "                 FeatureUnion(transformer_list=[('business',\n",
              "                                                 FeatureUnion(transformer_list=[('simple',\n",
              "                                                                                 Pipeline(steps=[('simple',\n",
              "                                                                                                  Pipeline(steps=[('cst',\n",
              "                                                                                                                   ColumnSelectTransformer(columns=['BEDCERT',\n",
              "                                                                                                                                                    'RESTOT',\n",
              "                                                                                                                                                    'INHOSP',\n",
              "                                                                                                                                                    'CCRC_FACIL',\n",
              "                                                                                                                                                    'SFF',\n",
              "                                                                                                                                                    'CHOW_LAST_12MOS',\n",
              "                                                                                                                                                    'SPRINKLER_STATUS',\n",
              "                                                                                                                                                    'EXP_TOTAL',\n",
              "                                                                                                                                                    'ADJ_TOTAL']))])),\n",
              "                                                                                                 ('ct',\n",
              "                                                                                                  ColumnTransformer(remainder='passthr...\n",
              "                                                                                                   'CYCLE_1_NFROMDEFS',\n",
              "                                                                                                   'CYCLE_1_NFROMCOMP',\n",
              "                                                                                                   'CYCLE_1_DEFS_SCORE',\n",
              "                                                                                                   'CYCLE_1_NUMREVIS',\n",
              "                                                                                                   'CYCLE_1_REVISIT_SCORE',\n",
              "                                                                                                   'CYCLE_1_TOTAL_SCORE'])),\n",
              "                                                                 ('scaler',\n",
              "                                                                  StandardScaler())])),\n",
              "                                                ('time',\n",
              "                                                 TimedeltaTransformer(t1_col='CYCLE_1_SURVEY_DATE',\n",
              "                                                                      t2_col='CYCLE_2_SURVEY_DATE'))])),\n",
              "                ('reg',\n",
              "                 RandomForestRegressor(max_depth=6, max_features=0.1,\n",
              "                                       min_samples_split=9, n_estimators=80,\n",
              "                                       random_state=42))])</pre></div></div></div><div class=\"sk-serial\"><div class=\"sk-item sk-dashed-wrapped\"><div class=\"sk-label-container\"><div class=\"sk-label sk-toggleable\"><input class=\"sk-toggleable__control sk-hidden--visually\" id=\"2f26d3c2-bf81-4c26-a9af-51fc9f8c325c\" type=\"checkbox\" ><label class=\"sk-toggleable__label\" for=\"2f26d3c2-bf81-4c26-a9af-51fc9f8c325c\">features: FeatureUnion</label><div class=\"sk-toggleable__content\"><pre>FeatureUnion(transformer_list=[('business',\n",
              "                                FeatureUnion(transformer_list=[('simple',\n",
              "                                                                Pipeline(steps=[('simple',\n",
              "                                                                                 Pipeline(steps=[('cst',\n",
              "                                                                                                  ColumnSelectTransformer(columns=['BEDCERT',\n",
              "                                                                                                                                   'RESTOT',\n",
              "                                                                                                                                   'INHOSP',\n",
              "                                                                                                                                   'CCRC_FACIL',\n",
              "                                                                                                                                   'SFF',\n",
              "                                                                                                                                   'CHOW_LAST_12MOS',\n",
              "                                                                                                                                   'SPRINKLER_STATUS',\n",
              "                                                                                                                                   'EXP_TOTAL',\n",
              "                                                                                                                                   'ADJ_TOTAL']))])),\n",
              "                                                                                ('ct',\n",
              "                                                                                 ColumnTransformer(remainder='passthrough',\n",
              "                                                                                                   transformers=[('pipeli...\n",
              "                                                                                                                 SimpleImputer())]))]))])),\n",
              "                               ('survey',\n",
              "                                Pipeline(steps=[('cst',\n",
              "                                                 ColumnSelectTransformer(columns=['CYCLE_1_DEFS',\n",
              "                                                                                  'CYCLE_1_NFROMDEFS',\n",
              "                                                                                  'CYCLE_1_NFROMCOMP',\n",
              "                                                                                  'CYCLE_1_DEFS_SCORE',\n",
              "                                                                                  'CYCLE_1_NUMREVIS',\n",
              "                                                                                  'CYCLE_1_REVISIT_SCORE',\n",
              "                                                                                  'CYCLE_1_TOTAL_SCORE'])),\n",
              "                                                ('scaler', StandardScaler())])),\n",
              "                               ('time',\n",
              "                                TimedeltaTransformer(t1_col='CYCLE_1_SURVEY_DATE',\n",
              "                                                     t2_col='CYCLE_2_SURVEY_DATE'))])</pre></div></div></div><div class=\"sk-parallel\"><div class=\"sk-parallel-item\"><div class=\"sk-item\"><div class=\"sk-label-container\"><div class=\"sk-label sk-toggleable\"><label>business</label></div></div><div class=\"sk-serial\"><div class=\"sk-item sk-dashed-wrapped\"><div class=\"sk-parallel\"><div class=\"sk-parallel-item\"><div class=\"sk-item\"><div class=\"sk-label-container\"><div class=\"sk-label sk-toggleable\"><label>simple</label></div></div><div class=\"sk-serial\"><div class=\"sk-item\"><div class=\"sk-serial\"><div class=\"sk-item\"><div class=\"sk-label-container\"><div class=\"sk-label sk-toggleable\"><input class=\"sk-toggleable__control sk-hidden--visually\" id=\"b1f62092-21ef-45b0-ba8e-5571003f9208\" type=\"checkbox\" ><label class=\"sk-toggleable__label\" for=\"b1f62092-21ef-45b0-ba8e-5571003f9208\">simple: Pipeline</label><div class=\"sk-toggleable__content\"><pre>Pipeline(steps=[('cst',\n",
              "                 ColumnSelectTransformer(columns=['BEDCERT', 'RESTOT', 'INHOSP',\n",
              "                                                  'CCRC_FACIL', 'SFF',\n",
              "                                                  'CHOW_LAST_12MOS',\n",
              "                                                  'SPRINKLER_STATUS',\n",
              "                                                  'EXP_TOTAL', 'ADJ_TOTAL']))])</pre></div></div></div><div class=\"sk-serial\"><div class=\"sk-item\"><div class=\"sk-estimator sk-toggleable\"><input class=\"sk-toggleable__control sk-hidden--visually\" id=\"ab3033c5-07cf-4ddb-8e08-fd6bd2dc3e7b\" type=\"checkbox\" ><label class=\"sk-toggleable__label\" for=\"ab3033c5-07cf-4ddb-8e08-fd6bd2dc3e7b\">ColumnSelectTransformer</label><div class=\"sk-toggleable__content\"><pre>ColumnSelectTransformer(columns=['BEDCERT', 'RESTOT', 'INHOSP', 'CCRC_FACIL',\n",
              "                                 'SFF', 'CHOW_LAST_12MOS', 'SPRINKLER_STATUS',\n",
              "                                 'EXP_TOTAL', 'ADJ_TOTAL'])</pre></div></div></div></div></div><div class=\"sk-item sk-dashed-wrapped\"><div class=\"sk-label-container\"><div class=\"sk-label sk-toggleable\"><input class=\"sk-toggleable__control sk-hidden--visually\" id=\"3166e7b0-e59a-4437-a10e-906f0d8f4c2b\" type=\"checkbox\" ><label class=\"sk-toggleable__label\" for=\"3166e7b0-e59a-4437-a10e-906f0d8f4c2b\">ct: ColumnTransformer</label><div class=\"sk-toggleable__content\"><pre>ColumnTransformer(remainder='passthrough',\n",
              "                  transformers=[('pipeline',\n",
              "                                 Pipeline(steps=[('scaler', StandardScaler()),\n",
              "                                                 ('simpleimputer',\n",
              "                                                  SimpleImputer())]),\n",
              "                                 <sklearn.compose._column_transformer.make_column_selector object at 0x7f85c27f52e0>),\n",
              "                                ('onehotencoder',\n",
              "                                 OneHotEncoder(handle_unknown='ignore'),\n",
              "                                 <sklearn.compose._column_transformer.make_column_selector object at 0x7f85c27f5250>)])</pre></div></div></div><div class=\"sk-parallel\"><div class=\"sk-parallel-item\"><div class=\"sk-item\"><div class=\"sk-label-container\"><div class=\"sk-label sk-toggleable\"><input class=\"sk-toggleable__control sk-hidden--visually\" id=\"2fdb9b7b-ac16-4c72-b3e1-fd23a18b4f48\" type=\"checkbox\" ><label class=\"sk-toggleable__label\" for=\"2fdb9b7b-ac16-4c72-b3e1-fd23a18b4f48\">pipeline</label><div class=\"sk-toggleable__content\"><pre><sklearn.compose._column_transformer.make_column_selector object at 0x7f85c27f52e0></pre></div></div></div><div class=\"sk-serial\"><div class=\"sk-item\"><div class=\"sk-serial\"><div class=\"sk-item\"><div class=\"sk-estimator sk-toggleable\"><input class=\"sk-toggleable__control sk-hidden--visually\" id=\"99d4c5dd-2daf-4343-88a0-47b5d82601bb\" type=\"checkbox\" ><label class=\"sk-toggleable__label\" for=\"99d4c5dd-2daf-4343-88a0-47b5d82601bb\">StandardScaler</label><div class=\"sk-toggleable__content\"><pre>StandardScaler()</pre></div></div></div><div class=\"sk-item\"><div class=\"sk-estimator sk-toggleable\"><input class=\"sk-toggleable__control sk-hidden--visually\" id=\"f3b8fb80-31b6-480a-b9f7-d321a54ada81\" type=\"checkbox\" ><label class=\"sk-toggleable__label\" for=\"f3b8fb80-31b6-480a-b9f7-d321a54ada81\">SimpleImputer</label><div class=\"sk-toggleable__content\"><pre>SimpleImputer()</pre></div></div></div></div></div></div></div></div><div class=\"sk-parallel-item\"><div class=\"sk-item\"><div class=\"sk-label-container\"><div class=\"sk-label sk-toggleable\"><input class=\"sk-toggleable__control sk-hidden--visually\" id=\"008fa96b-1a45-4c94-ac60-96eb72f83661\" type=\"checkbox\" ><label class=\"sk-toggleable__label\" for=\"008fa96b-1a45-4c94-ac60-96eb72f83661\">onehotencoder</label><div class=\"sk-toggleable__content\"><pre><sklearn.compose._column_transformer.make_column_selector object at 0x7f85c27f5250></pre></div></div></div><div class=\"sk-serial\"><div class=\"sk-item\"><div class=\"sk-estimator sk-toggleable\"><input class=\"sk-toggleable__control sk-hidden--visually\" id=\"78f54d12-4227-471b-aacc-6bf06dcfe844\" type=\"checkbox\" ><label class=\"sk-toggleable__label\" for=\"78f54d12-4227-471b-aacc-6bf06dcfe844\">OneHotEncoder</label><div class=\"sk-toggleable__content\"><pre>OneHotEncoder(handle_unknown='ignore')</pre></div></div></div></div></div></div></div></div></div></div></div></div></div><div class=\"sk-parallel-item\"><div class=\"sk-item\"><div class=\"sk-label-container\"><div class=\"sk-label sk-toggleable\"><label>categorical</label></div></div><div class=\"sk-serial\"><div class=\"sk-item sk-dashed-wrapped\"><div class=\"sk-parallel\"><div class=\"sk-parallel-item\"><div class=\"sk-item\"><div class=\"sk-label-container\"><div class=\"sk-label sk-toggleable\"><label>owner</label></div></div><div class=\"sk-serial\"><div class=\"sk-item\"><div class=\"sk-serial\"><div class=\"sk-item\"><div class=\"sk-estimator sk-toggleable\"><input class=\"sk-toggleable__control sk-hidden--visually\" id=\"6be80865-a2ae-40d7-997f-b9fb1dd4124a\" type=\"checkbox\" ><label class=\"sk-toggleable__label\" for=\"6be80865-a2ae-40d7-997f-b9fb1dd4124a\">ColumnSelectTransformer</label><div class=\"sk-toggleable__content\"><pre>ColumnSelectTransformer(columns=['OWNERSHIP'])</pre></div></div></div><div class=\"sk-item\"><div class=\"sk-estimator sk-toggleable\"><input class=\"sk-toggleable__control sk-hidden--visually\" id=\"8e31d1a9-544b-4b94-9d11-aebfa409dd49\" type=\"checkbox\" ><label class=\"sk-toggleable__label\" for=\"8e31d1a9-544b-4b94-9d11-aebfa409dd49\">OneHotEncoder</label><div class=\"sk-toggleable__content\"><pre>OneHotEncoder(handle_unknown='ignore')</pre></div></div></div><div class=\"sk-item\"><div class=\"sk-estimator sk-toggleable\"><input class=\"sk-toggleable__control sk-hidden--visually\" id=\"7acea357-9add-420e-abe8-05f7352e64ea\" type=\"checkbox\" ><label class=\"sk-toggleable__label\" for=\"7acea357-9add-420e-abe8-05f7352e64ea\">SimpleImputer</label><div class=\"sk-toggleable__content\"><pre>SimpleImputer()</pre></div></div></div></div></div></div></div></div><div class=\"sk-parallel-item\"><div class=\"sk-item\"><div class=\"sk-label-container\"><div class=\"sk-label sk-toggleable\"><label>cert</label></div></div><div class=\"sk-serial\"><div class=\"sk-item\"><div class=\"sk-serial\"><div class=\"sk-item\"><div class=\"sk-estimator sk-toggleable\"><input class=\"sk-toggleable__control sk-hidden--visually\" id=\"e7340e7f-5b26-484c-8281-4fe451e54469\" type=\"checkbox\" ><label class=\"sk-toggleable__label\" for=\"e7340e7f-5b26-484c-8281-4fe451e54469\">ColumnSelectTransformer</label><div class=\"sk-toggleable__content\"><pre>ColumnSelectTransformer(columns=['CERTIFICATION'])</pre></div></div></div><div class=\"sk-item\"><div class=\"sk-estimator sk-toggleable\"><input class=\"sk-toggleable__control sk-hidden--visually\" id=\"83fff051-70fa-4ff4-b246-1a8507aaeece\" type=\"checkbox\" ><label class=\"sk-toggleable__label\" for=\"83fff051-70fa-4ff4-b246-1a8507aaeece\">OneHotEncoder</label><div class=\"sk-toggleable__content\"><pre>OneHotEncoder(handle_unknown='ignore')</pre></div></div></div><div class=\"sk-item\"><div class=\"sk-estimator sk-toggleable\"><input class=\"sk-toggleable__control sk-hidden--visually\" id=\"3f5b3191-6c8a-4bac-b3f7-1f27c0ae02bd\" type=\"checkbox\" ><label class=\"sk-toggleable__label\" for=\"3f5b3191-6c8a-4bac-b3f7-1f27c0ae02bd\">SimpleImputer</label><div class=\"sk-toggleable__content\"><pre>SimpleImputer()</pre></div></div></div></div></div></div></div></div></div></div></div></div></div></div></div></div></div></div><div class=\"sk-parallel-item\"><div class=\"sk-item\"><div class=\"sk-label-container\"><div class=\"sk-label sk-toggleable\"><label>survey</label></div></div><div class=\"sk-serial\"><div class=\"sk-item\"><div class=\"sk-serial\"><div class=\"sk-item\"><div class=\"sk-estimator sk-toggleable\"><input class=\"sk-toggleable__control sk-hidden--visually\" id=\"aad20472-e6fa-4da3-af7d-29da6756bc86\" type=\"checkbox\" ><label class=\"sk-toggleable__label\" for=\"aad20472-e6fa-4da3-af7d-29da6756bc86\">ColumnSelectTransformer</label><div class=\"sk-toggleable__content\"><pre>ColumnSelectTransformer(columns=['CYCLE_1_DEFS', 'CYCLE_1_NFROMDEFS',\n",
              "                                 'CYCLE_1_NFROMCOMP', 'CYCLE_1_DEFS_SCORE',\n",
              "                                 'CYCLE_1_NUMREVIS', 'CYCLE_1_REVISIT_SCORE',\n",
              "                                 'CYCLE_1_TOTAL_SCORE'])</pre></div></div></div><div class=\"sk-item\"><div class=\"sk-estimator sk-toggleable\"><input class=\"sk-toggleable__control sk-hidden--visually\" id=\"31938c5f-a6e5-4cc7-b26f-f31f69af19e1\" type=\"checkbox\" ><label class=\"sk-toggleable__label\" for=\"31938c5f-a6e5-4cc7-b26f-f31f69af19e1\">StandardScaler</label><div class=\"sk-toggleable__content\"><pre>StandardScaler()</pre></div></div></div></div></div></div></div></div><div class=\"sk-parallel-item\"><div class=\"sk-item\"><div class=\"sk-label-container\"><div class=\"sk-label sk-toggleable\"><label>time</label></div></div><div class=\"sk-serial\"><div class=\"sk-item\"><div class=\"sk-estimator sk-toggleable\"><input class=\"sk-toggleable__control sk-hidden--visually\" id=\"358d2743-7f73-49fc-a579-956d7c979bc5\" type=\"checkbox\" ><label class=\"sk-toggleable__label\" for=\"358d2743-7f73-49fc-a579-956d7c979bc5\">TimedeltaTransformer</label><div class=\"sk-toggleable__content\"><pre>TimedeltaTransformer(t1_col='CYCLE_1_SURVEY_DATE', t2_col='CYCLE_2_SURVEY_DATE')</pre></div></div></div></div></div></div></div></div><div class=\"sk-item\"><div class=\"sk-estimator sk-toggleable\"><input class=\"sk-toggleable__control sk-hidden--visually\" id=\"18f6c569-ffe2-4af0-91c7-21811e4dc887\" type=\"checkbox\" ><label class=\"sk-toggleable__label\" for=\"18f6c569-ffe2-4af0-91c7-21811e4dc887\">RandomForestRegressor</label><div class=\"sk-toggleable__content\"><pre>RandomForestRegressor(max_depth=6, max_features=0.1, min_samples_split=9,\n",
              "                      n_estimators=80, random_state=42)</pre></div></div></div></div></div></div></div>"
            ],
            "text/plain": [
              "Pipeline(steps=[('features',\n",
              "                 FeatureUnion(transformer_list=[('business',\n",
              "                                                 FeatureUnion(transformer_list=[('simple',\n",
              "                                                                                 Pipeline(steps=[('simple',\n",
              "                                                                                                  Pipeline(steps=[('cst',\n",
              "                                                                                                                   ColumnSelectTransformer(columns=['BEDCERT',\n",
              "                                                                                                                                                    'RESTOT',\n",
              "                                                                                                                                                    'INHOSP',\n",
              "                                                                                                                                                    'CCRC_FACIL',\n",
              "                                                                                                                                                    'SFF',\n",
              "                                                                                                                                                    'CHOW_LAST_12MOS',\n",
              "                                                                                                                                                    'SPRINKLER_STATUS',\n",
              "                                                                                                                                                    'EXP_TOTAL',\n",
              "                                                                                                                                                    'ADJ_TOTAL']))])),\n",
              "                                                                                                 ('ct',\n",
              "                                                                                                  ColumnTransformer(remainder='passthr...\n",
              "                                                                                                   'CYCLE_1_NFROMDEFS',\n",
              "                                                                                                   'CYCLE_1_NFROMCOMP',\n",
              "                                                                                                   'CYCLE_1_DEFS_SCORE',\n",
              "                                                                                                   'CYCLE_1_NUMREVIS',\n",
              "                                                                                                   'CYCLE_1_REVISIT_SCORE',\n",
              "                                                                                                   'CYCLE_1_TOTAL_SCORE'])),\n",
              "                                                                 ('scaler',\n",
              "                                                                  StandardScaler())])),\n",
              "                                                ('time',\n",
              "                                                 TimedeltaTransformer(t1_col='CYCLE_1_SURVEY_DATE',\n",
              "                                                                      t2_col='CYCLE_2_SURVEY_DATE'))])),\n",
              "                ('reg',\n",
              "                 RandomForestRegressor(max_depth=6, max_features=0.1,\n",
              "                                       min_samples_split=9, n_estimators=80,\n",
              "                                       random_state=42))])"
            ]
          },
          "execution_count": 212,
          "metadata": {},
          "output_type": "execute_result"
        }
      ],
      "source": [
        "survey_model.fit(data, cycle_2_score.astype(int))"
      ]
    },
    {
      "cell_type": "code",
      "execution_count": null,
      "metadata": {
        "id": "vle7j1g_0Wif",
        "outputId": "e0d0376c-d60b-4eeb-af14-7c62862c5996"
      },
      "outputs": [
        {
          "name": "stdout",
          "output_type": "stream",
          "text": [
            "==================\n",
            "Your score: 1.040\n",
            "==================\n"
          ]
        }
      ],
      "source": [
        "grader.score.ml__survey_model(survey_model.predict)"
      ]
    },
    {
      "cell_type": "markdown",
      "metadata": {
        "id": "QnE-s6N80Wig"
      },
      "source": [
        "*Copyright &copy; 2021 WorldQuant University. This content is licensed solely for personal use. Redistribution or publication of this material is strictly prohibited.*"
      ]
    }
  ],
  "metadata": {
    "kernelspec": {
      "display_name": "Python 3",
      "language": "python",
      "name": "python3"
    },
    "language_info": {
      "codemirror_mode": {
        "name": "ipython",
        "version": 3
      },
      "file_extension": ".py",
      "mimetype": "text/x-python",
      "name": "python",
      "nbconvert_exporter": "python",
      "pygments_lexer": "ipython3",
      "version": "3.8.8"
    },
    "nbclean": true,
    "colab": {
      "name": "machine learning mini project",
      "provenance": [],
      "include_colab_link": true
    }
  },
  "nbformat": 4,
  "nbformat_minor": 0
}